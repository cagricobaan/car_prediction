{
 "cells": [
  {
   "cell_type": "markdown",
   "id": "eae4c0dd-fbba-4aec-ba33-d8f2b4d3332c",
   "metadata": {},
   "source": [
    "\n",
    "<div style=\"text-align: center;\">\n",
    "    <h1>Araç Fiyat Tahmini</h1>\n",
    "</div>"
   ]
  },
  {
   "cell_type": "markdown",
   "id": "81ef36c5-fd61-4770-93a9-eb103c33331f",
   "metadata": {},
   "source": [
    "\n",
    "### Veri Seti Bilgileri:\n",
    "\n",
    "Amerika'da farklı model yılları ve vites türü gibi özelliklerden oluşan, toplamda 13.109 arabadan oluşan bir veri seti üzerinde çalışıyoruz. Bu veri seti, her biri 7 değişken içeren bir yapıya sahip. Bu değişkenler arasında bağımlı değişken olarak fiyatı tahmin etmeye çalışacağız.\n",
    "\n",
    "### Değişkenler:\n",
    "\n",
    "- year:        Aracın model yılı\n",
    "- price:       Aracın satış Fiyatı\n",
    "- milage:      Aracın ne kadar mil yol aldığı bilgisi\n",
    "- tax :        Aracın yıllık vergisi \n",
    "- transmission: Araç vites türü\n",
    "- mpg :        Mil Başına kaç galon benzin tüketim\n",
    "- engineSize : Aracın motor gücü\n",
    "\n",
    "![apple]( https://resmim.net/cdn/2024/08/13/WIuCLT.jpg)"
   ]
  },
  {
   "cell_type": "markdown",
   "id": "ba024d87",
   "metadata": {},
   "source": [
    "# 1. Bölüm: KEŞİFÇİ VERİ ANALİZİ(EDA)\n",
    "- Veri Seti Okuma\n",
    "- Veri Seti Kolon İsimleri\n",
    "- Veri Seti Kolon İsimlerini Değiştirme\n",
    "- Veri Setinin Tanımlayıcı istatistiklerinin Transpozu alınmış hali\n",
    "- Veri Seti Tanımlayıcı İstatistiklerinin Tablo Halinde Verilmesi\n",
    "- Veri Setinin Genel Resmi\n",
    "- Veri Setinde Numerik ve Kategorik Değişkenlerin  Yakalanması \n",
    "- Kategorik değişkenlerin incelenmesi\n",
    "- Numeric Değişkenlerin İncelenmesi\n",
    "- Hedef Değişken Analizi\n",
    "- Korelasyon Analizi\n",
    "\n",
    "# 2. Bölüm: ÖZELLİK MÜHENDİSLİĞİ\n",
    "- Aykırı Değer Analizi\n",
    "- Eksik Değerler\n",
    "- Label Encoding\n",
    "- Özellik Ölçeklendirme(Scale)\n",
    "\n",
    "# 3. Bölüm: MODELLERİN KURULUMU VE BAŞARILARI"
   ]
  },
  {
   "cell_type": "markdown",
   "id": "3bff87c9",
   "metadata": {},
   "source": [
    "## 1. BÖLÜM\n",
    "## 1. KEŞİFÇİ VERİ ANALİZİ"
   ]
  },
  {
   "cell_type": "markdown",
   "id": "ecaee91e",
   "metadata": {},
   "source": [
    "### Gerekli Kütüphaneler"
   ]
  },
  {
   "cell_type": "code",
   "execution_count": 1,
   "id": "7b0eb7a3-916b-416e-ba0d-d5755eb05fa7",
   "metadata": {},
   "outputs": [],
   "source": [
    "import numpy as np# çok boyutlu dizileri ve matrixleri hızlı şekilde kullanma\n",
    "import pandas as pd # dataframe işlemleri için\n",
    "\n",
    "import random #sayı üretmek, rastgele seçimler yapmak \n",
    "\n",
    "#######veri görselleştirme#########\n",
    "import matplotlib.pyplot as plt\n",
    "import seaborn as sns\n",
    "\n",
    "#######başarı metrikleri için kullanılan kütüphane#########\n",
    "from math import sqrt\n",
    "from sklearn.metrics import mean_squared_error,accuracy_score, precision_score, recall_score, f1_score,roc_auc_score\n",
    "\n",
    "#Hiperparameter optimizasyonu kütüphanesi\n",
    "from sklearn.model_selection import GridSearchCV, cross_validate\n",
    "\n",
    "#veri setini train şekilde ayırmak için kullandığımız kütüphane\n",
    "from sklearn.model_selection import train_test_split\n",
    "\n",
    "#Label_Encoder_islemi\n",
    "from sklearn.preprocessing import LabelEncoder\n",
    "\n",
    "#verileri belirli bir ölçekte ayarlamak için kütüphane\n",
    "from sklearn.preprocessing import MinMaxScaler, LabelEncoder, StandardScaler, RobustScaler\n",
    "\n",
    "\n",
    "#Makine Öğrenmesi kütüphaneleri\n",
    "import joblib #machine learning model kayıt.\n",
    "from sklearn.linear_model import LinearRegression\n",
    "from sklearn.neighbors import KNeighborsRegressor\n",
    "from sklearn.svm import SVR\n",
    "from sklearn.tree import DecisionTreeRegressor\n",
    "from sklearn.ensemble import RandomForestRegressor, AdaBoostRegressor, GradientBoostingRegressor\n",
    "from xgboost import XGBRegressor\n",
    "from lightgbm import LGBMRegressor\n",
    "from sklearn.model_selection import cross_validate\n",
    "import numpy as np\n",
    "from sklearn.model_selection import GridSearchCV"
   ]
  },
  {
   "cell_type": "markdown",
   "id": "ddb81432",
   "metadata": {},
   "source": [
    "### 1.1. Veri Seti okutma"
   ]
  },
  {
   "cell_type": "code",
   "execution_count": 2,
   "id": "a5ec88fc",
   "metadata": {
    "scrolled": true
   },
   "outputs": [
    {
     "data": {
      "text/html": [
       "<div>\n",
       "<style scoped>\n",
       "    .dataframe tbody tr th:only-of-type {\n",
       "        vertical-align: middle;\n",
       "    }\n",
       "\n",
       "    .dataframe tbody tr th {\n",
       "        vertical-align: top;\n",
       "    }\n",
       "\n",
       "    .dataframe thead th {\n",
       "        text-align: right;\n",
       "    }\n",
       "</style>\n",
       "<table border=\"1\" class=\"dataframe\">\n",
       "  <thead>\n",
       "    <tr style=\"text-align: right;\">\n",
       "      <th></th>\n",
       "      <th>year</th>\n",
       "      <th>price</th>\n",
       "      <th>transmission</th>\n",
       "      <th>mileage</th>\n",
       "      <th>tax</th>\n",
       "      <th>mpg</th>\n",
       "      <th>engineSize</th>\n",
       "    </tr>\n",
       "  </thead>\n",
       "  <tbody>\n",
       "    <tr>\n",
       "      <th>0</th>\n",
       "      <td>2005</td>\n",
       "      <td>5200</td>\n",
       "      <td>Automatic</td>\n",
       "      <td>63000</td>\n",
       "      <td>325</td>\n",
       "      <td>32.1</td>\n",
       "      <td>1.8</td>\n",
       "    </tr>\n",
       "    <tr>\n",
       "      <th>1</th>\n",
       "      <td>2017</td>\n",
       "      <td>34948</td>\n",
       "      <td>Automatic</td>\n",
       "      <td>27000</td>\n",
       "      <td>20</td>\n",
       "      <td>61.4</td>\n",
       "      <td>2.1</td>\n",
       "    </tr>\n",
       "    <tr>\n",
       "      <th>2</th>\n",
       "      <td>2016</td>\n",
       "      <td>49948</td>\n",
       "      <td>Automatic</td>\n",
       "      <td>6200</td>\n",
       "      <td>555</td>\n",
       "      <td>28.0</td>\n",
       "      <td>5.5</td>\n",
       "    </tr>\n",
       "    <tr>\n",
       "      <th>3</th>\n",
       "      <td>2016</td>\n",
       "      <td>61948</td>\n",
       "      <td>Automatic</td>\n",
       "      <td>16000</td>\n",
       "      <td>325</td>\n",
       "      <td>30.4</td>\n",
       "      <td>4.0</td>\n",
       "    </tr>\n",
       "    <tr>\n",
       "      <th>4</th>\n",
       "      <td>2016</td>\n",
       "      <td>73948</td>\n",
       "      <td>Automatic</td>\n",
       "      <td>4000</td>\n",
       "      <td>325</td>\n",
       "      <td>30.1</td>\n",
       "      <td>4.0</td>\n",
       "    </tr>\n",
       "  </tbody>\n",
       "</table>\n",
       "</div>"
      ],
      "text/plain": [
       "   year  price transmission  mileage  tax   mpg  engineSize\n",
       "0  2005   5200    Automatic    63000  325  32.1         1.8\n",
       "1  2017  34948    Automatic    27000   20  61.4         2.1\n",
       "2  2016  49948    Automatic     6200  555  28.0         5.5\n",
       "3  2016  61948    Automatic    16000  325  30.4         4.0\n",
       "4  2016  73948    Automatic     4000  325  30.1         4.0"
      ]
     },
     "execution_count": 2,
     "metadata": {},
     "output_type": "execute_result"
    }
   ],
   "source": [
    "df= pd.read_excel(\"merc.xlsx\")\n",
    "df.head()"
   ]
  },
  {
   "cell_type": "code",
   "execution_count": 3,
   "id": "8d6e94e5",
   "metadata": {},
   "outputs": [
    {
     "data": {
      "text/plain": [
       "year            13119\n",
       "price           13119\n",
       "transmission    13119\n",
       "mileage         13119\n",
       "tax             13119\n",
       "mpg             13119\n",
       "engineSize      13119\n",
       "dtype: int64"
      ]
     },
     "execution_count": 3,
     "metadata": {},
     "output_type": "execute_result"
    }
   ],
   "source": [
    "df.count()"
   ]
  },
  {
   "cell_type": "markdown",
   "id": "da2d5725",
   "metadata": {},
   "source": [
    "### 1.2. Veri Seti Kolon İsimlerini Öğrenme"
   ]
  },
  {
   "cell_type": "code",
   "execution_count": 4,
   "id": "e2e274f3-6f59-4cf9-b9ff-6b8ff0af567b",
   "metadata": {},
   "outputs": [
    {
     "data": {
      "text/plain": [
       "['year', 'price', 'transmission', 'mileage', 'tax', 'mpg', 'engineSize']"
      ]
     },
     "execution_count": 4,
     "metadata": {},
     "output_type": "execute_result"
    }
   ],
   "source": [
    "df.columns.to_list()#kolon isimleri"
   ]
  },
  {
   "cell_type": "markdown",
   "id": "ec366eae",
   "metadata": {},
   "source": [
    "### 1.3. Veri Setindeki Kolon isimlerini Değiştirme"
   ]
  },
  {
   "cell_type": "code",
   "execution_count": 5,
   "id": "44f171d0-3b85-44dc-8933-e6ef72dfb3ea",
   "metadata": {
    "scrolled": true
   },
   "outputs": [
    {
     "data": {
      "text/html": [
       "<div>\n",
       "<style scoped>\n",
       "    .dataframe tbody tr th:only-of-type {\n",
       "        vertical-align: middle;\n",
       "    }\n",
       "\n",
       "    .dataframe tbody tr th {\n",
       "        vertical-align: top;\n",
       "    }\n",
       "\n",
       "    .dataframe thead th {\n",
       "        text-align: right;\n",
       "    }\n",
       "</style>\n",
       "<table border=\"1\" class=\"dataframe\">\n",
       "  <thead>\n",
       "    <tr style=\"text-align: right;\">\n",
       "      <th></th>\n",
       "      <th>yıl</th>\n",
       "      <th>satis_fiyati</th>\n",
       "      <th>vites_türü</th>\n",
       "      <th>mil_miktari</th>\n",
       "      <th>vergi</th>\n",
       "      <th>galon_basına_mil</th>\n",
       "      <th>motor_gucu</th>\n",
       "    </tr>\n",
       "  </thead>\n",
       "  <tbody>\n",
       "    <tr>\n",
       "      <th>0</th>\n",
       "      <td>2005</td>\n",
       "      <td>5200</td>\n",
       "      <td>Automatic</td>\n",
       "      <td>63000</td>\n",
       "      <td>325</td>\n",
       "      <td>32.1</td>\n",
       "      <td>1.8</td>\n",
       "    </tr>\n",
       "    <tr>\n",
       "      <th>1</th>\n",
       "      <td>2017</td>\n",
       "      <td>34948</td>\n",
       "      <td>Automatic</td>\n",
       "      <td>27000</td>\n",
       "      <td>20</td>\n",
       "      <td>61.4</td>\n",
       "      <td>2.1</td>\n",
       "    </tr>\n",
       "    <tr>\n",
       "      <th>2</th>\n",
       "      <td>2016</td>\n",
       "      <td>49948</td>\n",
       "      <td>Automatic</td>\n",
       "      <td>6200</td>\n",
       "      <td>555</td>\n",
       "      <td>28.0</td>\n",
       "      <td>5.5</td>\n",
       "    </tr>\n",
       "    <tr>\n",
       "      <th>3</th>\n",
       "      <td>2016</td>\n",
       "      <td>61948</td>\n",
       "      <td>Automatic</td>\n",
       "      <td>16000</td>\n",
       "      <td>325</td>\n",
       "      <td>30.4</td>\n",
       "      <td>4.0</td>\n",
       "    </tr>\n",
       "    <tr>\n",
       "      <th>4</th>\n",
       "      <td>2016</td>\n",
       "      <td>73948</td>\n",
       "      <td>Automatic</td>\n",
       "      <td>4000</td>\n",
       "      <td>325</td>\n",
       "      <td>30.1</td>\n",
       "      <td>4.0</td>\n",
       "    </tr>\n",
       "  </tbody>\n",
       "</table>\n",
       "</div>"
      ],
      "text/plain": [
       "    yıl  satis_fiyati vites_türü  mil_miktari  vergi  galon_basına_mil  \\\n",
       "0  2005          5200  Automatic        63000    325              32.1   \n",
       "1  2017         34948  Automatic        27000     20              61.4   \n",
       "2  2016         49948  Automatic         6200    555              28.0   \n",
       "3  2016         61948  Automatic        16000    325              30.4   \n",
       "4  2016         73948  Automatic         4000    325              30.1   \n",
       "\n",
       "   motor_gucu  \n",
       "0         1.8  \n",
       "1         2.1  \n",
       "2         5.5  \n",
       "3         4.0  \n",
       "4         4.0  "
      ]
     },
     "execution_count": 5,
     "metadata": {},
     "output_type": "execute_result"
    }
   ],
   "source": [
    "#değişken(kolon) ismi değiştirme\n",
    "\n",
    "\n",
    "yeni_isimler = {\n",
    "    'year': 'yıl',\n",
    "    'price': 'satis_fiyati',\n",
    "    'mileage': 'mil_miktari',\n",
    "    'transmission':'vites_türü',\n",
    "    'tax':'vergi',\n",
    "    'mpg':'galon_basına_mil',\n",
    "    'engineSize':'motor_gucu'\n",
    "    }\n",
    "\n",
    "df.rename(columns=yeni_isimler, inplace=True)\n",
    "df.head()"
   ]
  },
  {
   "cell_type": "markdown",
   "id": "c98e78c5",
   "metadata": {},
   "source": [
    "### 1.4. Veri Setinin Tanımlayıcı istatistiklerinin Transpozu alınmış hali"
   ]
  },
  {
   "cell_type": "code",
   "execution_count": 6,
   "id": "c5fbd5d4-0403-4564-b7c7-8678656169b8",
   "metadata": {},
   "outputs": [
    {
     "data": {
      "text/html": [
       "<div>\n",
       "<style scoped>\n",
       "    .dataframe tbody tr th:only-of-type {\n",
       "        vertical-align: middle;\n",
       "    }\n",
       "\n",
       "    .dataframe tbody tr th {\n",
       "        vertical-align: top;\n",
       "    }\n",
       "\n",
       "    .dataframe thead th {\n",
       "        text-align: right;\n",
       "    }\n",
       "</style>\n",
       "<table border=\"1\" class=\"dataframe\">\n",
       "  <thead>\n",
       "    <tr style=\"text-align: right;\">\n",
       "      <th></th>\n",
       "      <th>count</th>\n",
       "      <th>mean</th>\n",
       "      <th>std</th>\n",
       "      <th>min</th>\n",
       "      <th>25%</th>\n",
       "      <th>50%</th>\n",
       "      <th>75%</th>\n",
       "      <th>max</th>\n",
       "    </tr>\n",
       "  </thead>\n",
       "  <tbody>\n",
       "    <tr>\n",
       "      <th>yıl</th>\n",
       "      <td>13119.0</td>\n",
       "      <td>2017.296288</td>\n",
       "      <td>2.224709</td>\n",
       "      <td>1970.0</td>\n",
       "      <td>2016.0</td>\n",
       "      <td>2018.0</td>\n",
       "      <td>2019.0</td>\n",
       "      <td>2020.0</td>\n",
       "    </tr>\n",
       "    <tr>\n",
       "      <th>satis_fiyati</th>\n",
       "      <td>13119.0</td>\n",
       "      <td>24698.596920</td>\n",
       "      <td>11842.675542</td>\n",
       "      <td>650.0</td>\n",
       "      <td>17450.0</td>\n",
       "      <td>22480.0</td>\n",
       "      <td>28980.0</td>\n",
       "      <td>159999.0</td>\n",
       "    </tr>\n",
       "    <tr>\n",
       "      <th>mil_miktari</th>\n",
       "      <td>13119.0</td>\n",
       "      <td>21949.559037</td>\n",
       "      <td>21176.512267</td>\n",
       "      <td>1.0</td>\n",
       "      <td>6097.5</td>\n",
       "      <td>15189.0</td>\n",
       "      <td>31779.5</td>\n",
       "      <td>259000.0</td>\n",
       "    </tr>\n",
       "    <tr>\n",
       "      <th>vergi</th>\n",
       "      <td>13119.0</td>\n",
       "      <td>129.972178</td>\n",
       "      <td>65.260286</td>\n",
       "      <td>0.0</td>\n",
       "      <td>125.0</td>\n",
       "      <td>145.0</td>\n",
       "      <td>145.0</td>\n",
       "      <td>580.0</td>\n",
       "    </tr>\n",
       "    <tr>\n",
       "      <th>galon_basına_mil</th>\n",
       "      <td>13119.0</td>\n",
       "      <td>55.155843</td>\n",
       "      <td>15.220082</td>\n",
       "      <td>1.1</td>\n",
       "      <td>45.6</td>\n",
       "      <td>56.5</td>\n",
       "      <td>64.2</td>\n",
       "      <td>217.3</td>\n",
       "    </tr>\n",
       "    <tr>\n",
       "      <th>motor_gucu</th>\n",
       "      <td>13119.0</td>\n",
       "      <td>2.071530</td>\n",
       "      <td>0.572426</td>\n",
       "      <td>0.0</td>\n",
       "      <td>1.8</td>\n",
       "      <td>2.0</td>\n",
       "      <td>2.1</td>\n",
       "      <td>6.2</td>\n",
       "    </tr>\n",
       "  </tbody>\n",
       "</table>\n",
       "</div>"
      ],
      "text/plain": [
       "                    count          mean           std     min      25%  \\\n",
       "yıl               13119.0   2017.296288      2.224709  1970.0   2016.0   \n",
       "satis_fiyati      13119.0  24698.596920  11842.675542   650.0  17450.0   \n",
       "mil_miktari       13119.0  21949.559037  21176.512267     1.0   6097.5   \n",
       "vergi             13119.0    129.972178     65.260286     0.0    125.0   \n",
       "galon_basına_mil  13119.0     55.155843     15.220082     1.1     45.6   \n",
       "motor_gucu        13119.0      2.071530      0.572426     0.0      1.8   \n",
       "\n",
       "                      50%      75%       max  \n",
       "yıl                2018.0   2019.0    2020.0  \n",
       "satis_fiyati      22480.0  28980.0  159999.0  \n",
       "mil_miktari       15189.0  31779.5  259000.0  \n",
       "vergi               145.0    145.0     580.0  \n",
       "galon_basına_mil     56.5     64.2     217.3  \n",
       "motor_gucu            2.0      2.1       6.2  "
      ]
     },
     "execution_count": 6,
     "metadata": {},
     "output_type": "execute_result"
    }
   ],
   "source": [
    "df.describe().T"
   ]
  },
  {
   "cell_type": "markdown",
   "id": "cadb05f7",
   "metadata": {},
   "source": [
    "### 1.5. Veri Setinin Tanımlayıcı istatistiklerinin tablo halinde verilmiş hali"
   ]
  },
  {
   "cell_type": "code",
   "execution_count": 7,
   "id": "432cefa9",
   "metadata": {},
   "outputs": [
    {
     "name": "stdout",
     "output_type": "stream",
     "text": [
      "╒═══════╤═════════╤════════════════╤═══════════════╤═════════╤════════════════════╤══════════════╕\n",
      "│       │   yıl   │  satis_fiyati  │  mil_miktari  │  vergi  │  galon_basına_mil  │  motor_gucu  │\n",
      "╞═══════╪═════════╪════════════════╪═══════════════╪═════════╪════════════════════╪══════════════╡\n",
      "│ count │  13119  │     13119      │     13119     │  13119  │       13119        │    13119     │\n",
      "├───────┼─────────┼────────────────┼───────────────┼─────────┼────────────────────┼──────────────┤\n",
      "│ mean  │ 2017.3  │    24698.6     │    21949.6    │ 129.972 │      55.1558       │   2.07153    │\n",
      "├───────┼─────────┼────────────────┼───────────────┼─────────┼────────────────────┼──────────────┤\n",
      "│  std  │ 2.22471 │    11842.7     │    21176.5    │ 65.2603 │      15.2201       │   0.572426   │\n",
      "├───────┼─────────┼────────────────┼───────────────┼─────────┼────────────────────┼──────────────┤\n",
      "│  min  │  1970   │      650       │       1       │    0    │        1.1         │      0       │\n",
      "├───────┼─────────┼────────────────┼───────────────┼─────────┼────────────────────┼──────────────┤\n",
      "│  25%  │  2016   │     17450      │    6097.5     │   125   │        45.6        │     1.8      │\n",
      "├───────┼─────────┼────────────────┼───────────────┼─────────┼────────────────────┼──────────────┤\n",
      "│  50%  │  2018   │     22480      │     15189     │   145   │        56.5        │      2       │\n",
      "├───────┼─────────┼────────────────┼───────────────┼─────────┼────────────────────┼──────────────┤\n",
      "│  75%  │  2019   │     28980      │    31779.5    │   145   │        64.2        │     2.1      │\n",
      "├───────┼─────────┼────────────────┼───────────────┼─────────┼────────────────────┼──────────────┤\n",
      "│  max  │  2020   │     159999     │    259000     │   580   │       217.3        │     6.2      │\n",
      "╘═══════╧═════════╧════════════════╧═══════════════╧═════════╧════════════════════╧══════════════╛\n"
     ]
    }
   ],
   "source": [
    "from tabulate import tabulate\n",
    "betimsel_istatistikler = df.describe()\n",
    "table = tabulate(betimsel_istatistikler, headers='keys', tablefmt='fancy_grid',numalign='center',stralign='center')\n",
    "#table=tabulate(betimsel_istatistikler, headers=, tablefmt, numalign, stralign, missingval)\n",
    "print(table)"
   ]
  },
  {
   "cell_type": "markdown",
   "id": "f12eb6ff",
   "metadata": {},
   "source": [
    "### 1.6. Veri Setinin Genel Resmi"
   ]
  },
  {
   "cell_type": "code",
   "execution_count": 8,
   "id": "3939d476-a525-480a-912e-ced3d8266494",
   "metadata": {},
   "outputs": [
    {
     "name": "stdout",
     "output_type": "stream",
     "text": [
      "##################### Shape #####################\n",
      "(13119, 7)\n",
      "##################### Types #####################\n",
      "yıl                   int64\n",
      "satis_fiyati          int64\n",
      "vites_türü           object\n",
      "mil_miktari           int64\n",
      "vergi                 int64\n",
      "galon_basına_mil    float64\n",
      "motor_gucu          float64\n",
      "dtype: object\n",
      "##################### Head #####################\n",
      "    yıl  satis_fiyati vites_türü  mil_miktari  vergi  galon_basına_mil  \\\n",
      "0  2005          5200  Automatic        63000    325              32.1   \n",
      "1  2017         34948  Automatic        27000     20              61.4   \n",
      "2  2016         49948  Automatic         6200    555              28.0   \n",
      "3  2016         61948  Automatic        16000    325              30.4   \n",
      "4  2016         73948  Automatic         4000    325              30.1   \n",
      "\n",
      "   motor_gucu  \n",
      "0         1.8  \n",
      "1         2.1  \n",
      "2         5.5  \n",
      "3         4.0  \n",
      "4         4.0  \n",
      "##################### Tail #####################\n",
      "        yıl  satis_fiyati vites_türü  mil_miktari  vergi  galon_basına_mil  \\\n",
      "13114  2020         35999  Automatic          500    145              55.4   \n",
      "13115  2020         24699  Automatic         2500    145              55.4   \n",
      "13116  2019         30999  Automatic        11612    145              41.5   \n",
      "13117  2019         37990  Automatic         2426    145              45.6   \n",
      "13118  2019         54999  Automatic         2075    145              52.3   \n",
      "\n",
      "       motor_gucu  \n",
      "13114         2.0  \n",
      "13115         2.0  \n",
      "13116         2.1  \n",
      "13117         2.0  \n",
      "13118         2.9  \n",
      "##################### NA #####################\n",
      "yıl                 0\n",
      "satis_fiyati        0\n",
      "vites_türü          0\n",
      "mil_miktari         0\n",
      "vergi               0\n",
      "galon_basına_mil    0\n",
      "motor_gucu          0\n",
      "dtype: int64\n",
      "##################### Quantiles #####################\n",
      "                    0.00     0.05     0.50     0.95      0.99      1.00\n",
      "yıl               1970.0   2014.0   2018.0   2020.0   2020.00    2020.0\n",
      "satis_fiyati       650.0  11649.0  22480.0  46202.0  65990.00  159999.0\n",
      "mil_miktari          1.0   1000.0  15189.0  62593.1  94804.22  259000.0\n",
      "vergi                0.0     20.0    145.0    200.0    325.00     580.0\n",
      "galon_basına_mil     1.1     31.7     56.5     72.4     80.70     217.3\n",
      "motor_gucu           0.0      1.3      2.0      3.0      4.00       6.2\n",
      "<class 'pandas.core.frame.DataFrame'>\n",
      "RangeIndex: 13119 entries, 0 to 13118\n",
      "Data columns (total 7 columns):\n",
      " #   Column            Non-Null Count  Dtype  \n",
      "---  ------            --------------  -----  \n",
      " 0   yıl               13119 non-null  int64  \n",
      " 1   satis_fiyati      13119 non-null  int64  \n",
      " 2   vites_türü        13119 non-null  object \n",
      " 3   mil_miktari       13119 non-null  int64  \n",
      " 4   vergi             13119 non-null  int64  \n",
      " 5   galon_basına_mil  13119 non-null  float64\n",
      " 6   motor_gucu        13119 non-null  float64\n",
      "dtypes: float64(2), int64(4), object(1)\n",
      "memory usage: 717.6+ KB\n"
     ]
    }
   ],
   "source": [
    "\n",
    "\n",
    "def check_df(dataframe, head=5):\n",
    "    print(\"##################### Shape #####################\")\n",
    "    print(dataframe.shape) # satır sütun sayısı.\n",
    "    print(\"##################### Types #####################\")\n",
    "    print(dataframe.dtypes) # değişkenleri veri tipi\n",
    "    print(\"##################### Head #####################\")\n",
    "    print(dataframe.head(head)) # veri setinde ilk 5 değişken\n",
    "    print(\"##################### Tail #####################\")\n",
    "    print(dataframe.tail(head))  #veri setinde son 5 satır\n",
    "    print(\"##################### NA #####################\")\n",
    "    print(dataframe.isnull().sum()) # Değişkenlerin boş satır sayısı.\n",
    "    print(\"##################### Quantiles #####################\")\n",
    "    print(dataframe.quantile([0, 0.05, 0.50, 0.95, 0.99, 1]).T)\n",
    "\n",
    "check_df(df)\n",
    "\n",
    "df.head()\n",
    "df.info()"
   ]
  },
  {
   "cell_type": "markdown",
   "id": "1229b3f7",
   "metadata": {},
   "source": [
    "### 1.7. Veri Setinde Numerik ve Kategorik Değişkenlerin  Yakalanması "
   ]
  },
  {
   "cell_type": "code",
   "execution_count": 9,
   "id": "e53b25fb-681e-4b98-9940-d50ebcf5ab2c",
   "metadata": {},
   "outputs": [
    {
     "name": "stdout",
     "output_type": "stream",
     "text": [
      "Observations: 13119\n",
      "Variables: 7\n",
      "cat_cols: 1\n",
      "num_cols: 6\n",
      "cat_but_car: 0\n",
      "num_but_cat: 0\n"
     ]
    }
   ],
   "source": [
    "##################################\n",
    "# NUMERİK VE KATEGORİK DEĞİŞKENLERİN YAKALANMASI\n",
    "##################################\n",
    "\n",
    "#cat_th= bir numerik değişken ..'dan(aşağıdaki 10 olarak tanımladık örneğin) daha az eşsiz değere sahip ise buna kategorik değişken muamelesi yapıcak.\n",
    "#car_th= bir kategorik değişken ..'dan aşağıdaki 20 olarak tanımladık örneğin)daha az eşsiz değere sahip ise buna numerik değişken muamelesi yapıcak.\n",
    "def grab_col_names(dataframe, cat_th=10, car_th=20):\n",
    "    \"\"\"\n",
    "\n",
    "    Veri setindeki kategorik, numerik ve kategorik fakat kardinal değişkenlerin isimlerini verir.\n",
    "    Not: Kategorik değişkenlerin içerisine numerik görünümlü kategorik değişkenler de dahildir.\n",
    "\n",
    "    Parameters\n",
    "    ------\n",
    "        dataframe: dataframe\n",
    "                Değişken isimleri alınmak istenilen dataframe\n",
    "        cat_th: int, optional\n",
    "                numerik fakat kategorik olan değişkenler için sınıf eşik değeri\n",
    "        car_th: int, optional\n",
    "                kategorik fakat kardinal değişkenler için sınıf eşik değeri\n",
    "\n",
    "    Returns\n",
    "    ------\n",
    "        cat_cols: list\n",
    "                Kategorik değişken listesi\n",
    "        num_cols: list\n",
    "                Numerik değişken listesi\n",
    "        cat_but_car: list\n",
    "                Kategorik görünümlü kardinal değişken listesi\n",
    "\n",
    "    Examples\n",
    "    ------\n",
    "        import seaborn as sns\n",
    "        df = sns.load_dataset(\"iris\")\n",
    "        print(grab_col_names(df))\n",
    "\n",
    "\n",
    "    Notes\n",
    "    ------\n",
    "        cat_cols + num_cols + cat_but_car = toplam değişken sayısı\n",
    "        num_but_cat cat_cols'un içerisinde.\n",
    "\n",
    "    \"\"\"\n",
    "    # cat_cols, cat_but_car\n",
    "    cat_cols = [col for col in dataframe.columns if dataframe[col].dtypes == \"O\"]\n",
    "    num_but_cat = [col for col in dataframe.columns if dataframe[col].nunique() < cat_th and dataframe[col].dtypes != \"O\"]\n",
    "    cat_but_car = [col for col in dataframe.columns if dataframe[col].nunique() > car_th and dataframe[col].dtypes == \"O\"]\n",
    "    cat_cols = cat_cols + num_but_cat\n",
    "    cat_cols = [col for col in cat_cols if col not in cat_but_car]\n",
    "\n",
    "    # num_cols\n",
    "    num_cols = [col for col in dataframe.columns if dataframe[col].dtypes != \"O\"]\n",
    "    num_cols = [col for col in num_cols if col not in num_but_cat]\n",
    "\n",
    "    print(f\"Observations: {dataframe.shape[0]}\")\n",
    "    print(f\"Variables: {dataframe.shape[1]}\")\n",
    "    print(f'cat_cols: {len(cat_cols)}')\n",
    "    print(f'num_cols: {len(num_cols)}')\n",
    "    print(f'cat_but_car: {len(cat_but_car)}')\n",
    "    print(f'num_but_cat: {len(num_but_cat)}')\n",
    "\n",
    "    return cat_cols, num_cols, cat_but_car\n",
    "\n",
    "\n",
    "cat_cols, num_cols, cat_but_car = grab_col_names(df)\n",
    "\n"
   ]
  },
  {
   "cell_type": "markdown",
   "id": "c0f87298",
   "metadata": {},
   "source": [
    "Veri setinde toplam 7 değişken bulunmaktadır. Bu değişkenlerden biri kategorik, diğer 6'sı ise sayısal niteliktedir."
   ]
  },
  {
   "cell_type": "code",
   "execution_count": 10,
   "id": "6dd9fb67",
   "metadata": {},
   "outputs": [
    {
     "data": {
      "text/plain": [
       "['yıl',\n",
       " 'satis_fiyati',\n",
       " 'mil_miktari',\n",
       " 'vergi',\n",
       " 'galon_basına_mil',\n",
       " 'motor_gucu']"
      ]
     },
     "execution_count": 10,
     "metadata": {},
     "output_type": "execute_result"
    }
   ],
   "source": [
    "num_cols"
   ]
  },
  {
   "cell_type": "code",
   "execution_count": 19,
   "id": "860a43f0",
   "metadata": {},
   "outputs": [
    {
     "data": {
      "text/plain": [
       "<AxesSubplot:xlabel='satis_fiyati', ylabel='Density'>"
      ]
     },
     "execution_count": 19,
     "metadata": {},
     "output_type": "execute_result"
    },
    {
     "data": {
      "image/png": "[encoded data removed]",
      "text/plain": [
       "<Figure size 640x480 with 1 Axes>"
      ]
     },
     "metadata": {},
     "output_type": "display_data"
    }
   ],
   "source": [
    "import warnings\n",
    "warnings.filterwarnings(\"ignore\")\n",
    "import seaborn as sbn\n",
    "sbn.distplot(df[\"satis_fiyati\"])\n"
   ]
  },
  {
   "cell_type": "code",
   "execution_count": 20,
   "id": "8a2338ca",
   "metadata": {},
   "outputs": [
    {
     "data": {
      "text/plain": [
       "<AxesSubplot:xlabel='yıl', ylabel='count'>"
      ]
     },
     "execution_count": 20,
     "metadata": {},
     "output_type": "execute_result"
    },
    {
     "data": {
      "image/png": "[encoded data removed]",
      "text/plain": [
       "<Figure size 1300x500 with 1 Axes>"
      ]
     },
     "metadata": {},
     "output_type": "display_data"
    }
   ],
   "source": [
    "plt.figure(figsize=(13,5))\n",
    "\n",
    "sbn.countplot(df[\"yıl\"])"
   ]
  },
  {
   "cell_type": "code",
   "execution_count": 21,
   "id": "c5fc0934",
   "metadata": {},
   "outputs": [
    {
     "data": {
      "text/plain": [
       "<AxesSubplot:xlabel='galon_basına_mil', ylabel='satis_fiyati'>"
      ]
     },
     "execution_count": 21,
     "metadata": {},
     "output_type": "execute_result"
    },
    {
     "data": {
      "image/png": "[encoded data removed]",
      "text/plain": [
       "<Figure size 640x480 with 1 Axes>"
      ]
     },
     "metadata": {},
     "output_type": "display_data"
    }
   ],
   "source": [
    "sbn.scatterplot(x=\"galon_basına_mil\",y=\"satis_fiyati\",data=df)"
   ]
  },
  {
   "cell_type": "markdown",
   "id": "d5af99c5",
   "metadata": {},
   "source": [
    "### 1.8. kategorik değişkenlerin incelenmesi"
   ]
  },
  {
   "cell_type": "code",
   "execution_count": 11,
   "id": "cdfb1972-f06f-4c65-b3c2-19fda9918517",
   "metadata": {},
   "outputs": [
    {
     "data": {
      "text/plain": [
       "['vites_türü']"
      ]
     },
     "execution_count": 11,
     "metadata": {},
     "output_type": "execute_result"
    }
   ],
   "source": [
    "cat_cols"
   ]
  },
  {
   "cell_type": "markdown",
   "id": "7918d06c",
   "metadata": {},
   "source": [
    "vites_türü değişkeni kategorik bir değişkendir."
   ]
  },
  {
   "cell_type": "markdown",
   "id": "f0301b56",
   "metadata": {},
   "source": [
    "#### 1.8.1. kategorik değişkenlerin dağılımı"
   ]
  },
  {
   "cell_type": "code",
   "execution_count": 12,
   "id": "234feb96-8c2d-4071-96cf-8b6669f95526",
   "metadata": {},
   "outputs": [],
   "source": [
    "import pandas as pd\n",
    "import seaborn as sns\n",
    "import matplotlib.pyplot as plt\n",
    "\n",
    "def cat_summary(dataframe, col_name, plot=True):\n",
    "    pd.set_option('display.max_columns', None)  # Tüm sütunları göster\n",
    "    pd.set_option('display.expand_frame_repr', False)  # Satırları yan yana göster\n",
    "\n",
    "    summary_df = dataframe[col_name].value_counts().reset_index()\n",
    "    summary_df.columns = [col_name, 'Count']\n",
    "    summary_df['Ratio (%)'] = 100 * summary_df['Count'] / len(dataframe)\n",
    "    print(summary_df)\n",
    "    print(\"##########################################\")\n",
    "\n",
    "    if plot:\n",
    "        plt.figure(figsize=(8, 4))  # Grafik boyutunu ayarla (width, height)\n",
    "        sns.countplot(x=col_name, data=dataframe)\n",
    "        plt.show(block=True)"
   ]
  },
  {
   "cell_type": "code",
   "execution_count": 13,
   "id": "a8bebe3b-5a30-4299-8675-6c298397ce3c",
   "metadata": {},
   "outputs": [
    {
     "name": "stdout",
     "output_type": "stream",
     "text": [
      "  vites_türü  Count  Ratio (%)\n",
      "0  Semi-Auto   6848  52.199101\n",
      "1  Automatic   4825  36.778718\n",
      "2     Manual   1444  11.006937\n",
      "3      Other      2   0.015245\n",
      "##########################################\n"
     ]
    },
    {
     "data": {
      "image/png": "[encoded data removed]",
      "text/plain": [
       "<Figure size 800x400 with 1 Axes>"
      ]
     },
     "metadata": {},
     "output_type": "display_data"
    }
   ],
   "source": [
    "for col in cat_cols:\n",
    "    cat_summary(df, col)"
   ]
  },
  {
   "cell_type": "markdown",
   "id": "23b94ee9",
   "metadata": {},
   "source": [
    "##### Değerlendirme: \n",
    "Vites türü değişkeninin kategorileri veri setinde eşit olarak dağılmamıştır. Bu durum, veri setinde yanlılık oluşturabilir."
   ]
  },
  {
   "cell_type": "markdown",
   "id": "6c85bb3f",
   "metadata": {},
   "source": [
    "### 1.9. Numeric Değişkenlerin incelenmesi"
   ]
  },
  {
   "cell_type": "code",
   "execution_count": 14,
   "id": "dffcac61",
   "metadata": {},
   "outputs": [
    {
     "data": {
      "text/plain": [
       "['yıl',\n",
       " 'satis_fiyati',\n",
       " 'mil_miktari',\n",
       " 'vergi',\n",
       " 'galon_basına_mil',\n",
       " 'motor_gucu']"
      ]
     },
     "execution_count": 14,
     "metadata": {},
     "output_type": "execute_result"
    }
   ],
   "source": [
    "num_cols"
   ]
  },
  {
   "cell_type": "markdown",
   "id": "c77bfb84",
   "metadata": {},
   "source": [
    "#### 1.9.1.Numeric değişkenlerin dağılımı"
   ]
  },
  {
   "cell_type": "code",
   "execution_count": 15,
   "id": "8b3cb173-2210-41ed-9230-a3834ca8c61f",
   "metadata": {},
   "outputs": [],
   "source": [
    "#numeric değişkenlerin dağılımı\n",
    "def num_summary(dataframe, numerical_col, plot=True):\n",
    "    quantiles = [0.05, 0.10, 0.20, 0.30, 0.40, 0.50, 0.60, 0.70, 0.80, 0.90, 0.95, 0.99]\n",
    "    print(dataframe[numerical_col].describe(quantiles).T)\n",
    "\n",
    "    if plot:\n",
    "        dataframe[numerical_col].hist()\n",
    "        plt.xlabel(numerical_col)\n",
    "        plt.title(numerical_col)\n",
    "        plt.show(block=True)"
   ]
  },
  {
   "cell_type": "code",
   "execution_count": 16,
   "id": "44b28f15-508f-4bf1-85a0-50463649ab72",
   "metadata": {},
   "outputs": [
    {
     "name": "stdout",
     "output_type": "stream",
     "text": [
      "count    13119.000000\n",
      "mean      2017.296288\n",
      "std          2.224709\n",
      "min       1970.000000\n",
      "5%        2014.000000\n",
      "10%       2015.000000\n",
      "20%       2016.000000\n",
      "30%       2016.000000\n",
      "40%       2017.000000\n",
      "50%       2018.000000\n",
      "60%       2019.000000\n",
      "70%       2019.000000\n",
      "80%       2019.000000\n",
      "90%       2019.000000\n",
      "95%       2020.000000\n",
      "99%       2020.000000\n",
      "max       2020.000000\n",
      "Name: yıl, dtype: float64\n"
     ]
    },
    {
     "data": {
      "image/png": "[encoded data removed]",
      "text/plain": [
       "<Figure size 640x480 with 1 Axes>"
      ]
     },
     "metadata": {},
     "output_type": "display_data"
    },
    {
     "name": "stdout",
     "output_type": "stream",
     "text": [
      "count     13119.000000\n",
      "mean      24698.596920\n",
      "std       11842.675542\n",
      "min         650.000000\n",
      "5%        11649.000000\n",
      "10%       13868.400000\n",
      "20%       16399.600000\n",
      "30%       18449.000000\n",
      "40%       20000.000000\n",
      "50%       22480.000000\n",
      "60%       24950.000000\n",
      "70%       27000.000000\n",
      "80%       30799.000000\n",
      "90%       38000.000000\n",
      "95%       46202.000000\n",
      "99%       65990.000000\n",
      "max      159999.000000\n",
      "Name: satis_fiyati, dtype: float64\n"
     ]
    },
    {
     "data": {
      "image/png": "[encoded data removed]",
      "text/plain": [
       "<Figure size 640x480 with 1 Axes>"
      ]
     },
     "metadata": {},
     "output_type": "display_data"
    },
    {
     "name": "stdout",
     "output_type": "stream",
     "text": [
      "count     13119.000000\n",
      "mean      21949.559037\n",
      "std       21176.512267\n",
      "min           1.000000\n",
      "5%         1000.000000\n",
      "10%        1987.000000\n",
      "20%        4457.800000\n",
      "30%        8069.400000\n",
      "40%       11807.600000\n",
      "50%       15189.000000\n",
      "60%       21124.600000\n",
      "70%       27939.800000\n",
      "80%       36046.400000\n",
      "90%       49277.400000\n",
      "95%       62593.100000\n",
      "99%       94804.220000\n",
      "max      259000.000000\n",
      "Name: mil_miktari, dtype: float64\n"
     ]
    },
    {
     "data": {
      "image/png": "[encoded data removed]",
      "text/plain": [
       "<Figure size 640x480 with 1 Axes>"
      ]
     },
     "metadata": {},
     "output_type": "display_data"
    },
    {
     "name": "stdout",
     "output_type": "stream",
     "text": [
      "count    13119.000000\n",
      "mean       129.972178\n",
      "std         65.260286\n",
      "min          0.000000\n",
      "5%          20.000000\n",
      "10%         20.000000\n",
      "20%        125.000000\n",
      "30%        145.000000\n",
      "40%        145.000000\n",
      "50%        145.000000\n",
      "60%        145.000000\n",
      "70%        145.000000\n",
      "80%        145.000000\n",
      "90%        150.000000\n",
      "95%        200.000000\n",
      "99%        325.000000\n",
      "max        580.000000\n",
      "Name: vergi, dtype: float64\n"
     ]
    },
    {
     "data": {
      "image/png": "[encoded data removed]",
      "text/plain": [
       "<Figure size 640x480 with 1 Axes>"
      ]
     },
     "metadata": {},
     "output_type": "display_data"
    },
    {
     "name": "stdout",
     "output_type": "stream",
     "text": [
      "count    13119.000000\n",
      "mean        55.155843\n",
      "std         15.220082\n",
      "min          1.100000\n",
      "5%          31.700000\n",
      "10%         36.700000\n",
      "20%         44.100000\n",
      "30%         47.100000\n",
      "40%         52.300000\n",
      "50%         56.500000\n",
      "60%         58.900000\n",
      "70%         64.200000\n",
      "80%         65.700000\n",
      "90%         68.900000\n",
      "95%         72.400000\n",
      "99%         80.700000\n",
      "max        217.300000\n",
      "Name: galon_basına_mil, dtype: float64\n"
     ]
    },
    {
     "data": {
      "image/png": "[encoded data removed]",
      "text/plain": [
       "<Figure size 640x480 with 1 Axes>"
      ]
     },
     "metadata": {},
     "output_type": "display_data"
    },
    {
     "name": "stdout",
     "output_type": "stream",
     "text": [
      "count    13119.000000\n",
      "mean         2.071530\n",
      "std          0.572426\n",
      "min          0.000000\n",
      "5%           1.300000\n",
      "10%          1.500000\n",
      "20%          1.600000\n",
      "30%          2.000000\n",
      "40%          2.000000\n",
      "50%          2.000000\n",
      "60%          2.100000\n",
      "70%          2.100000\n",
      "80%          2.100000\n",
      "90%          3.000000\n",
      "95%          3.000000\n",
      "99%          4.000000\n",
      "max          6.200000\n",
      "Name: motor_gucu, dtype: float64\n"
     ]
    },
    {
     "data": {
      "image/png": "[encoded data removed]",
      "text/plain": [
       "<Figure size 640x480 with 1 Axes>"
      ]
     },
     "metadata": {},
     "output_type": "display_data"
    }
   ],
   "source": [
    "for col in num_cols:\n",
    "    num_summary(df, col, plot=True)"
   ]
  },
  {
   "cell_type": "markdown",
   "id": "7433e25a",
   "metadata": {},
   "source": [
    "### 1.10 Hedef Değişken Analizi"
   ]
  },
  {
   "cell_type": "code",
   "execution_count": 17,
   "id": "3a82c666",
   "metadata": {},
   "outputs": [
    {
     "data": {
      "text/plain": [
       "24999    48\n",
       "19999    46\n",
       "17999    44\n",
       "14999    42\n",
       "19000    40\n",
       "         ..\n",
       "34795     1\n",
       "57400     1\n",
       "22678     1\n",
       "42480     1\n",
       "19344     1\n",
       "Name: satis_fiyati, Length: 4424, dtype: int64"
      ]
     },
     "execution_count": 17,
     "metadata": {},
     "output_type": "execute_result"
    }
   ],
   "source": [
    "df[\"satis_fiyati\"].value_counts()"
   ]
  },
  {
   "cell_type": "markdown",
   "id": "252f54c2",
   "metadata": {},
   "source": [
    "\n",
    "#### 10.1.1. Hedef Değişkenin Kategorik Değişkenler ile Analizi\n"
   ]
  },
  {
   "cell_type": "code",
   "execution_count": 18,
   "id": "eb07571f",
   "metadata": {},
   "outputs": [],
   "source": [
    "def target_summary_with_cat(dataframe, target, categorical_col):\n",
    "    print(pd.DataFrame({\"TARGET_MEAN\": dataframe.groupby(categorical_col)[target].mean()}), end=\"\\n\\n\\n\")\n"
   ]
  },
  {
   "cell_type": "code",
   "execution_count": 19,
   "id": "f9f31788",
   "metadata": {},
   "outputs": [
    {
     "name": "stdout",
     "output_type": "stream",
     "text": [
      "             TARGET_MEAN\n",
      "vites_türü              \n",
      "Automatic   24406.959585\n",
      "Manual      15442.434903\n",
      "Other       15847.500000\n",
      "Semi-Auto   26858.461157\n",
      "\n",
      "\n"
     ]
    }
   ],
   "source": [
    "for col in cat_cols:\n",
    "    target_summary_with_cat(df, \"satis_fiyati\", col)"
   ]
  },
  {
   "cell_type": "markdown",
   "id": "89bef542",
   "metadata": {},
   "source": [
    "Arabaların vitesleri otomatik ve yarı otomatik olduğu durumda araba fiyatlarının artış eğiliminde olduğu gözlenmektedir."
   ]
  },
  {
   "cell_type": "markdown",
   "id": "7830e7da",
   "metadata": {},
   "source": [
    "\n",
    "#### 10.1.2. Hedef Değişkenin Numerik Değişkenler ile Analizi\n"
   ]
  },
  {
   "cell_type": "code",
   "execution_count": 20,
   "id": "6b033a54",
   "metadata": {},
   "outputs": [],
   "source": [
    "def target_summary_with_num(dataframe, target, numerical_col):\n",
    "    print(dataframe.groupby(target).agg({numerical_col: \"mean\"}), end=\"\\n\\n\\n\")"
   ]
  },
  {
   "cell_type": "code",
   "execution_count": 21,
   "id": "5a46e605",
   "metadata": {},
   "outputs": [
    {
     "name": "stdout",
     "output_type": "stream",
     "text": [
      "                 yıl\n",
      "satis_fiyati        \n",
      "650           2003.0\n",
      "1350          2010.0\n",
      "1490          2000.0\n",
      "1495          2003.0\n",
      "1695          2003.5\n",
      "...              ...\n",
      "139995        2018.0\n",
      "140319        2019.0\n",
      "149948        2011.0\n",
      "154998        2020.0\n",
      "159999        2020.0\n",
      "\n",
      "[4424 rows x 1 columns]\n",
      "\n",
      "\n",
      "              satis_fiyati\n",
      "satis_fiyati              \n",
      "650                  650.0\n",
      "1350                1350.0\n",
      "1490                1490.0\n",
      "1495                1495.0\n",
      "1695                1695.0\n",
      "...                    ...\n",
      "139995            139995.0\n",
      "140319            140319.0\n",
      "149948            149948.0\n",
      "154998            154998.0\n",
      "159999            159999.0\n",
      "\n",
      "[4424 rows x 1 columns]\n",
      "\n",
      "\n",
      "              mil_miktari\n",
      "satis_fiyati             \n",
      "650              109090.0\n",
      "1350             116126.0\n",
      "1490              87000.0\n",
      "1495              66400.0\n",
      "1695             130900.0\n",
      "...                   ...\n",
      "139995            13046.0\n",
      "140319              785.0\n",
      "149948             3000.0\n",
      "154998             3000.0\n",
      "159999             1350.0\n",
      "\n",
      "[4424 rows x 1 columns]\n",
      "\n",
      "\n",
      "              vergi\n",
      "satis_fiyati       \n",
      "650           235.0\n",
      "1350          145.0\n",
      "1490          265.0\n",
      "1495          302.5\n",
      "1695          312.5\n",
      "...             ...\n",
      "139995        145.0\n",
      "140319        150.0\n",
      "149948        570.0\n",
      "154998        150.0\n",
      "159999        145.0\n",
      "\n",
      "[4424 rows x 1 columns]\n",
      "\n",
      "\n",
      "              galon_basına_mil\n",
      "satis_fiyati                  \n",
      "650                      40.00\n",
      "1350                     54.30\n",
      "1490                     27.20\n",
      "1495                     37.15\n",
      "1695                     32.65\n",
      "...                        ...\n",
      "139995                   21.40\n",
      "140319                   22.10\n",
      "149948                   21.40\n",
      "154998                   21.40\n",
      "159999                   21.40\n",
      "\n",
      "[4424 rows x 1 columns]\n",
      "\n",
      "\n",
      "              motor_gucu\n",
      "satis_fiyati            \n",
      "650                 1.40\n",
      "1350                2.00\n",
      "1490                3.20\n",
      "1495                2.25\n",
      "1695                2.50\n",
      "...                  ...\n",
      "139995              4.00\n",
      "140319              4.00\n",
      "149948              6.20\n",
      "154998              4.00\n",
      "159999              4.00\n",
      "\n",
      "[4424 rows x 1 columns]\n",
      "\n",
      "\n"
     ]
    }
   ],
   "source": [
    "for col in num_cols:\n",
    "    target_summary_with_num(df, \"satis_fiyati\", col)\n",
    "\n"
   ]
  },
  {
   "cell_type": "markdown",
   "id": "324c717b",
   "metadata": {},
   "source": [
    "### 1.11.Korelasyon analizi"
   ]
  },
  {
   "cell_type": "code",
   "execution_count": 22,
   "id": "0aa57a92-901f-4276-915f-fe7c59bcee19",
   "metadata": {},
   "outputs": [
    {
     "data": {
      "image/png": "[encoded data removed]",
      "text/plain": [
       "<Figure size 800x400 with 2 Axes>"
      ]
     },
     "metadata": {},
     "output_type": "display_data"
    }
   ],
   "source": [
    "\n",
    "#num_cols = [col for col in df.columns if df[col].dtype in [int, float]]\n",
    "\n",
    "corr = df[num_cols].corr()\n",
    "\n",
    "sns.set(rc={'figure.figsize': (8, 4)})\n",
    "sns.heatmap(corr, cmap=\"RdBu\", annot=True, fmt=\".2f\")\n",
    "plt.show()\n"
   ]
  },
  {
   "cell_type": "markdown",
   "id": "7866f8c6",
   "metadata": {},
   "source": [
    "##### Değerlendirme:\n",
    "Veri setimizdeki bağımlı değişken olan satış fiyatının, bağımsız değişkenlerle ilişkisini incelediğimizde, yıl, vergi ve motor gücü değişkenleri arasında pozitif bir korelasyon görülmektedir. Yani, bu değişkenlerin değeri arttığında satış fiyatının da arttığı gözlemlenmiştir. Mil ve galon başına mil değişkenleri ile satış fiyatı arasında ise negatif bir korelasyon vardır. Bu değişkenlerin değeri arttığında, satış fiyatının düştüğü gözlemlenmiştir."
   ]
  },
  {
   "cell_type": "code",
   "execution_count": 23,
   "id": "8bdc8518",
   "metadata": {},
   "outputs": [
    {
     "data": {
      "text/plain": [
       "['yıl',\n",
       " 'satis_fiyati',\n",
       " 'mil_miktari',\n",
       " 'vergi',\n",
       " 'galon_basına_mil',\n",
       " 'motor_gucu']"
      ]
     },
     "execution_count": 23,
     "metadata": {},
     "output_type": "execute_result"
    }
   ],
   "source": [
    "num_cols"
   ]
  },
  {
   "cell_type": "markdown",
   "id": "d77c98a0",
   "metadata": {},
   "source": [
    "####  1.11.1. Korelasyon Analizi Matris Tablosu"
   ]
  },
  {
   "cell_type": "code",
   "execution_count": 24,
   "id": "a47f955b-19a7-495d-aee4-457e01c37d41",
   "metadata": {},
   "outputs": [
    {
     "data": {
      "text/html": [
       "<div>\n",
       "<style scoped>\n",
       "    .dataframe tbody tr th:only-of-type {\n",
       "        vertical-align: middle;\n",
       "    }\n",
       "\n",
       "    .dataframe tbody tr th {\n",
       "        vertical-align: top;\n",
       "    }\n",
       "\n",
       "    .dataframe thead th {\n",
       "        text-align: right;\n",
       "    }\n",
       "</style>\n",
       "<table border=\"1\" class=\"dataframe\">\n",
       "  <thead>\n",
       "    <tr style=\"text-align: right;\">\n",
       "      <th></th>\n",
       "      <th>yıl</th>\n",
       "      <th>satis_fiyati</th>\n",
       "      <th>mil_miktari</th>\n",
       "      <th>vergi</th>\n",
       "      <th>galon_basına_mil</th>\n",
       "      <th>motor_gucu</th>\n",
       "    </tr>\n",
       "  </thead>\n",
       "  <tbody>\n",
       "    <tr>\n",
       "      <th>yıl</th>\n",
       "      <td>1.000000</td>\n",
       "      <td>0.520712</td>\n",
       "      <td>0.738027</td>\n",
       "      <td>0.012480</td>\n",
       "      <td>0.094626</td>\n",
       "      <td>0.142147</td>\n",
       "    </tr>\n",
       "    <tr>\n",
       "      <th>satis_fiyati</th>\n",
       "      <td>0.520712</td>\n",
       "      <td>1.000000</td>\n",
       "      <td>0.537214</td>\n",
       "      <td>0.268717</td>\n",
       "      <td>0.438445</td>\n",
       "      <td>0.516126</td>\n",
       "    </tr>\n",
       "    <tr>\n",
       "      <th>mil_miktari</th>\n",
       "      <td>0.738027</td>\n",
       "      <td>0.537214</td>\n",
       "      <td>1.000000</td>\n",
       "      <td>0.160223</td>\n",
       "      <td>0.202850</td>\n",
       "      <td>0.063652</td>\n",
       "    </tr>\n",
       "    <tr>\n",
       "      <th>vergi</th>\n",
       "      <td>0.012480</td>\n",
       "      <td>0.268717</td>\n",
       "      <td>0.160223</td>\n",
       "      <td>1.000000</td>\n",
       "      <td>0.513742</td>\n",
       "      <td>0.338341</td>\n",
       "    </tr>\n",
       "    <tr>\n",
       "      <th>galon_basına_mil</th>\n",
       "      <td>0.094626</td>\n",
       "      <td>0.438445</td>\n",
       "      <td>0.202850</td>\n",
       "      <td>0.513742</td>\n",
       "      <td>1.000000</td>\n",
       "      <td>0.339862</td>\n",
       "    </tr>\n",
       "    <tr>\n",
       "      <th>motor_gucu</th>\n",
       "      <td>0.142147</td>\n",
       "      <td>0.516126</td>\n",
       "      <td>0.063652</td>\n",
       "      <td>0.338341</td>\n",
       "      <td>0.339862</td>\n",
       "      <td>1.000000</td>\n",
       "    </tr>\n",
       "  </tbody>\n",
       "</table>\n",
       "</div>"
      ],
      "text/plain": [
       "                       yıl  satis_fiyati  mil_miktari     vergi  galon_basına_mil  motor_gucu\n",
       "yıl               1.000000      0.520712     0.738027  0.012480          0.094626    0.142147\n",
       "satis_fiyati      0.520712      1.000000     0.537214  0.268717          0.438445    0.516126\n",
       "mil_miktari       0.738027      0.537214     1.000000  0.160223          0.202850    0.063652\n",
       "vergi             0.012480      0.268717     0.160223  1.000000          0.513742    0.338341\n",
       "galon_basına_mil  0.094626      0.438445     0.202850  0.513742          1.000000    0.339862\n",
       "motor_gucu        0.142147      0.516126     0.063652  0.338341          0.339862    1.000000"
      ]
     },
     "execution_count": 24,
     "metadata": {},
     "output_type": "execute_result"
    }
   ],
   "source": [
    "#korelasyon matrisi tablosu\n",
    "cor_matrix = df.corr().abs()\n",
    "cor_matrix"
   ]
  },
  {
   "cell_type": "markdown",
   "id": "611f4cf5",
   "metadata": {},
   "source": [
    "#### 1.11.2. Korelasyon analizi matris tab 2"
   ]
  },
  {
   "cell_type": "code",
   "execution_count": 25,
   "id": "4e7d099a-59e9-4644-bda4-8c95ab174f3e",
   "metadata": {},
   "outputs": [
    {
     "data": {
      "text/html": [
       "<div>\n",
       "<style scoped>\n",
       "    .dataframe tbody tr th:only-of-type {\n",
       "        vertical-align: middle;\n",
       "    }\n",
       "\n",
       "    .dataframe tbody tr th {\n",
       "        vertical-align: top;\n",
       "    }\n",
       "\n",
       "    .dataframe thead th {\n",
       "        text-align: right;\n",
       "    }\n",
       "</style>\n",
       "<table border=\"1\" class=\"dataframe\">\n",
       "  <thead>\n",
       "    <tr style=\"text-align: right;\">\n",
       "      <th></th>\n",
       "      <th>yıl</th>\n",
       "      <th>satis_fiyati</th>\n",
       "      <th>mil_miktari</th>\n",
       "      <th>vergi</th>\n",
       "      <th>galon_basına_mil</th>\n",
       "      <th>motor_gucu</th>\n",
       "    </tr>\n",
       "  </thead>\n",
       "  <tbody>\n",
       "    <tr>\n",
       "      <th>yıl</th>\n",
       "      <td>NaN</td>\n",
       "      <td>0.520712</td>\n",
       "      <td>0.738027</td>\n",
       "      <td>0.012480</td>\n",
       "      <td>0.094626</td>\n",
       "      <td>0.142147</td>\n",
       "    </tr>\n",
       "    <tr>\n",
       "      <th>satis_fiyati</th>\n",
       "      <td>NaN</td>\n",
       "      <td>NaN</td>\n",
       "      <td>0.537214</td>\n",
       "      <td>0.268717</td>\n",
       "      <td>0.438445</td>\n",
       "      <td>0.516126</td>\n",
       "    </tr>\n",
       "    <tr>\n",
       "      <th>mil_miktari</th>\n",
       "      <td>NaN</td>\n",
       "      <td>NaN</td>\n",
       "      <td>NaN</td>\n",
       "      <td>0.160223</td>\n",
       "      <td>0.202850</td>\n",
       "      <td>0.063652</td>\n",
       "    </tr>\n",
       "    <tr>\n",
       "      <th>vergi</th>\n",
       "      <td>NaN</td>\n",
       "      <td>NaN</td>\n",
       "      <td>NaN</td>\n",
       "      <td>NaN</td>\n",
       "      <td>0.513742</td>\n",
       "      <td>0.338341</td>\n",
       "    </tr>\n",
       "    <tr>\n",
       "      <th>galon_basına_mil</th>\n",
       "      <td>NaN</td>\n",
       "      <td>NaN</td>\n",
       "      <td>NaN</td>\n",
       "      <td>NaN</td>\n",
       "      <td>NaN</td>\n",
       "      <td>0.339862</td>\n",
       "    </tr>\n",
       "    <tr>\n",
       "      <th>motor_gucu</th>\n",
       "      <td>NaN</td>\n",
       "      <td>NaN</td>\n",
       "      <td>NaN</td>\n",
       "      <td>NaN</td>\n",
       "      <td>NaN</td>\n",
       "      <td>NaN</td>\n",
       "    </tr>\n",
       "  </tbody>\n",
       "</table>\n",
       "</div>"
      ],
      "text/plain": [
       "                  yıl  satis_fiyati  mil_miktari     vergi  galon_basına_mil  motor_gucu\n",
       "yıl               NaN      0.520712     0.738027  0.012480          0.094626    0.142147\n",
       "satis_fiyati      NaN           NaN     0.537214  0.268717          0.438445    0.516126\n",
       "mil_miktari       NaN           NaN          NaN  0.160223          0.202850    0.063652\n",
       "vergi             NaN           NaN          NaN       NaN          0.513742    0.338341\n",
       "galon_basına_mil  NaN           NaN          NaN       NaN               NaN    0.339862\n",
       "motor_gucu        NaN           NaN          NaN       NaN               NaN         NaN"
      ]
     },
     "execution_count": 25,
     "metadata": {},
     "output_type": "execute_result"
    }
   ],
   "source": [
    "upper_triangle_matrix = cor_matrix.where(np.triu(np.ones(cor_matrix.shape), k=1).astype(bool))\n",
    "upper_triangle_matrix"
   ]
  },
  {
   "cell_type": "markdown",
   "id": "8b231d3a",
   "metadata": {},
   "source": [
    "## 2. Bölüm"
   ]
  },
  {
   "cell_type": "markdown",
   "id": "7dcecfbc",
   "metadata": {},
   "source": [
    "## 2. Feature Enginerring"
   ]
  },
  {
   "cell_type": "markdown",
   "id": "aad2eeaf",
   "metadata": {},
   "source": [
    "### 2.1. Aykırı Değer Analizi"
   ]
  },
  {
   "cell_type": "markdown",
   "id": "199f2aac",
   "metadata": {},
   "source": [
    "#### 2.1.1. Boxplot yöntemi(IQR Fonksiyonu tanımlama)"
   ]
  },
  {
   "cell_type": "code",
   "execution_count": 26,
   "id": "6dbd8da5-e3cd-4348-be9e-57a3c82cccf5",
   "metadata": {},
   "outputs": [],
   "source": [
    "def outlier_thresholds(dataframe, col_name, q1=0.25, q3=0.75):\n",
    "    quartile1 = dataframe[col_name].quantile(q1)\n",
    "    quartile3 = dataframe[col_name].quantile(q3)\n",
    "    interquantile_range = quartile3 - quartile1\n",
    "    up_limit = quartile3 + 1.5 * interquantile_range\n",
    "    low_limit = quartile1 - 1.5 * interquantile_range\n",
    "    return low_limit, up_limit"
   ]
  },
  {
   "cell_type": "markdown",
   "id": "b6a2a694",
   "metadata": {},
   "source": [
    "#### 2.1.2. IQR Alt ve Üst Limitlerini Belirleme"
   ]
  },
  {
   "cell_type": "code",
   "execution_count": 27,
   "id": "674cdd92-6124-4668-9d8e-7cf5d6c64b21",
   "metadata": {},
   "outputs": [],
   "source": [
    "def check_outlier(dataframe, col_name):\n",
    "    low_limit, up_limit = outlier_thresholds(dataframe, col_name)\n",
    "    if dataframe[(dataframe[col_name] > up_limit) | (dataframe[col_name] < low_limit)].any(axis=None):\n",
    "        return True\n",
    "    else:\n",
    "        return False\n"
   ]
  },
  {
   "cell_type": "markdown",
   "id": "758a4eb2",
   "metadata": {},
   "source": [
    "#### 2.1.3. Aykırı Değeri Olan Değişkenler"
   ]
  },
  {
   "cell_type": "code",
   "execution_count": 28,
   "id": "0dbf0e78-74d9-43d9-a1e9-4c3b4e26d037",
   "metadata": {},
   "outputs": [
    {
     "name": "stdout",
     "output_type": "stream",
     "text": [
      "yıl True\n",
      "satis_fiyati True\n",
      "mil_miktari True\n",
      "vergi True\n",
      "galon_basına_mil True\n",
      "motor_gucu True\n"
     ]
    }
   ],
   "source": [
    "for col in num_cols:\n",
    "    print(col, check_outlier(df, col))"
   ]
  },
  {
   "cell_type": "markdown",
   "id": "05f0e79b",
   "metadata": {},
   "source": [
    "##### Tespit:\n",
    "Yıl, satış fiyatı, mil miktarı, vergi, galon başına mil ve motor gücü değişkenlerinde aykırı değerler tespit edilmiştir."
   ]
  },
  {
   "cell_type": "markdown",
   "id": "3a51a320",
   "metadata": {},
   "source": [
    "#### 2.1.4. Baskılama yöntemi ile aykırı değer problemini Çözme"
   ]
  },
  {
   "cell_type": "markdown",
   "id": "c5a029de",
   "metadata": {},
   "source": [
    "##### Bilgilendirme: \n",
    "Aykırı değerlerin bulunduğu değişkenlerdeki satırlar baskılama yöntemi ile düzeltilecektir."
   ]
  },
  {
   "cell_type": "code",
   "execution_count": 29,
   "id": "ade3a0cd",
   "metadata": {},
   "outputs": [],
   "source": [
    "def replace_with_thresholds(dataframe, variable):\n",
    "    low_limit, up_limit = outlier_thresholds(dataframe, variable)\n",
    "    dataframe.loc[(dataframe[variable] < low_limit), variable] = low_limit\n",
    "    dataframe.loc[(dataframe[variable] > up_limit), variable] = up_limit"
   ]
  },
  {
   "cell_type": "code",
   "execution_count": 30,
   "id": "3f1be610",
   "metadata": {},
   "outputs": [],
   "source": [
    "for col in num_cols:\n",
    "    replace_with_thresholds(df, col)"
   ]
  },
  {
   "cell_type": "code",
   "execution_count": 31,
   "id": "76d8e3d5",
   "metadata": {},
   "outputs": [
    {
     "name": "stdout",
     "output_type": "stream",
     "text": [
      "yıl False\n",
      "satis_fiyati False\n",
      "mil_miktari False\n",
      "vergi False\n",
      "galon_basına_mil False\n",
      "motor_gucu False\n"
     ]
    }
   ],
   "source": [
    "for col in num_cols:\n",
    "    print(col, check_outlier(df, col))"
   ]
  },
  {
   "cell_type": "markdown",
   "id": "3f787f41",
   "metadata": {},
   "source": [
    "##### Bilgilendirme: \n",
    "Aykırı değerlerin bulunduğu değişkenlerdeki satırlar baskılama yöntemi aykırı değer sorunu gidrelmiştir."
   ]
  },
  {
   "cell_type": "markdown",
   "id": "f62900d0",
   "metadata": {},
   "source": [
    "### 2.2. Eksik Değerler(Missing Value)"
   ]
  },
  {
   "cell_type": "code",
   "execution_count": 32,
   "id": "c17e4ac5",
   "metadata": {},
   "outputs": [
    {
     "data": {
      "text/plain": [
       "False"
      ]
     },
     "execution_count": 32,
     "metadata": {},
     "output_type": "execute_result"
    }
   ],
   "source": [
    "df.isnull().values.any()"
   ]
  },
  {
   "cell_type": "code",
   "execution_count": 33,
   "id": "00ec73a1",
   "metadata": {},
   "outputs": [
    {
     "data": {
      "text/plain": [
       "0"
      ]
     },
     "execution_count": 33,
     "metadata": {},
     "output_type": "execute_result"
    }
   ],
   "source": [
    "df.isnull().sum().sum()# eksik veri sayısı"
   ]
  },
  {
   "cell_type": "markdown",
   "id": "e73e1897",
   "metadata": {},
   "source": [
    "eksik verimiz yok."
   ]
  },
  {
   "cell_type": "markdown",
   "id": "f457b8a0",
   "metadata": {},
   "source": [
    "### 2.3. Encoding"
   ]
  },
  {
   "cell_type": "code",
   "execution_count": 34,
   "id": "b0985a7d",
   "metadata": {},
   "outputs": [],
   "source": [
    "def one_hot_encoder(dataframe, categorical_cols, drop_first=True):\n",
    "    dataframe = pd.get_dummies(dataframe, columns=categorical_cols, drop_first=drop_first)\n",
    "    return dataframe\n",
    "\n",
    "\n",
    "# cat_cols, num_cols, cat_but_car = grab_col_names(df)\n",
    "\n",
    "ohe_cols = [col for col in df.columns if 10 >= df[col].nunique() > 2]\n",
    "\n",
    "\n",
    "df=one_hot_encoder(df, ohe_cols)"
   ]
  },
  {
   "cell_type": "markdown",
   "id": "2de2abcf",
   "metadata": {},
   "source": [
    "### 2.4. Özellik Ölçeklendirme(Scale)"
   ]
  },
  {
   "cell_type": "code",
   "execution_count": 35,
   "id": "709c0080-1943-460c-a492-df21e56824cd",
   "metadata": {},
   "outputs": [],
   "source": [
    "y = df[\"satis_fiyati\"]\n",
    "X = df.drop([\"satis_fiyati\"], axis=1)"
   ]
  },
  {
   "cell_type": "code",
   "execution_count": 36,
   "id": "01992e88-a3ae-429c-95b8-e7649d299510",
   "metadata": {},
   "outputs": [],
   "source": [
    "scaler= RobustScaler()\n",
    "\n",
    "df[X.columns.to_list()]=scaler.fit_transform(df[X.columns.to_list()])"
   ]
  },
  {
   "cell_type": "code",
   "execution_count": 37,
   "id": "ecb02028-5048-4b6d-bcd7-738a9c17d827",
   "metadata": {},
   "outputs": [
    {
     "data": {
      "text/plain": [
       "0     5200\n",
       "1    34948\n",
       "2    46275\n",
       "3    46275\n",
       "4    46275\n",
       "Name: satis_fiyati, dtype: int64"
      ]
     },
     "execution_count": 37,
     "metadata": {},
     "output_type": "execute_result"
    }
   ],
   "source": [
    "y.head()"
   ]
  },
  {
   "cell_type": "code",
   "execution_count": 38,
   "id": "def9737f-8e7b-4aed-9eab-eef1f7455b1a",
   "metadata": {
    "scrolled": true
   },
   "outputs": [
    {
     "data": {
      "text/html": [
       "<div>\n",
       "<style scoped>\n",
       "    .dataframe tbody tr th:only-of-type {\n",
       "        vertical-align: middle;\n",
       "    }\n",
       "\n",
       "    .dataframe tbody tr th {\n",
       "        vertical-align: top;\n",
       "    }\n",
       "\n",
       "    .dataframe thead th {\n",
       "        text-align: right;\n",
       "    }\n",
       "</style>\n",
       "<table border=\"1\" class=\"dataframe\">\n",
       "  <thead>\n",
       "    <tr style=\"text-align: right;\">\n",
       "      <th></th>\n",
       "      <th>satis_fiyati</th>\n",
       "      <th>mil_miktari</th>\n",
       "      <th>galon_basına_mil</th>\n",
       "      <th>motor_gucu</th>\n",
       "      <th>yıl_2012.0</th>\n",
       "      <th>yıl_2013.0</th>\n",
       "      <th>yıl_2014.0</th>\n",
       "      <th>yıl_2015.0</th>\n",
       "      <th>yıl_2016.0</th>\n",
       "      <th>yıl_2017.0</th>\n",
       "      <th>yıl_2018.0</th>\n",
       "      <th>yıl_2019.0</th>\n",
       "      <th>yıl_2020.0</th>\n",
       "      <th>vites_türü_Manual</th>\n",
       "      <th>vites_türü_Other</th>\n",
       "      <th>vites_türü_Semi-Auto</th>\n",
       "      <th>vergi_115</th>\n",
       "      <th>vergi_125</th>\n",
       "      <th>vergi_135</th>\n",
       "      <th>vergi_140</th>\n",
       "      <th>vergi_145</th>\n",
       "      <th>vergi_150</th>\n",
       "      <th>vergi_160</th>\n",
       "      <th>vergi_165</th>\n",
       "      <th>vergi_175</th>\n",
       "    </tr>\n",
       "  </thead>\n",
       "  <tbody>\n",
       "    <tr>\n",
       "      <th>0</th>\n",
       "      <td>5200</td>\n",
       "      <td>1.861654</td>\n",
       "      <td>-1.311828</td>\n",
       "      <td>-0.666667</td>\n",
       "      <td>0.0</td>\n",
       "      <td>0.0</td>\n",
       "      <td>0.0</td>\n",
       "      <td>0.0</td>\n",
       "      <td>0.0</td>\n",
       "      <td>0.0</td>\n",
       "      <td>0.0</td>\n",
       "      <td>0.0</td>\n",
       "      <td>0.0</td>\n",
       "      <td>0.0</td>\n",
       "      <td>0.0</td>\n",
       "      <td>-1.0</td>\n",
       "      <td>0.0</td>\n",
       "      <td>0.0</td>\n",
       "      <td>0.0</td>\n",
       "      <td>0.0</td>\n",
       "      <td>-1.0</td>\n",
       "      <td>0.0</td>\n",
       "      <td>0.0</td>\n",
       "      <td>0.0</td>\n",
       "      <td>1.0</td>\n",
       "    </tr>\n",
       "    <tr>\n",
       "      <th>1</th>\n",
       "      <td>34948</td>\n",
       "      <td>0.459894</td>\n",
       "      <td>0.263441</td>\n",
       "      <td>0.333333</td>\n",
       "      <td>0.0</td>\n",
       "      <td>0.0</td>\n",
       "      <td>0.0</td>\n",
       "      <td>0.0</td>\n",
       "      <td>0.0</td>\n",
       "      <td>1.0</td>\n",
       "      <td>0.0</td>\n",
       "      <td>0.0</td>\n",
       "      <td>0.0</td>\n",
       "      <td>0.0</td>\n",
       "      <td>0.0</td>\n",
       "      <td>-1.0</td>\n",
       "      <td>0.0</td>\n",
       "      <td>0.0</td>\n",
       "      <td>0.0</td>\n",
       "      <td>0.0</td>\n",
       "      <td>-1.0</td>\n",
       "      <td>0.0</td>\n",
       "      <td>0.0</td>\n",
       "      <td>0.0</td>\n",
       "      <td>0.0</td>\n",
       "    </tr>\n",
       "    <tr>\n",
       "      <th>2</th>\n",
       "      <td>46275</td>\n",
       "      <td>-0.350012</td>\n",
       "      <td>-1.532258</td>\n",
       "      <td>1.833333</td>\n",
       "      <td>0.0</td>\n",
       "      <td>0.0</td>\n",
       "      <td>0.0</td>\n",
       "      <td>0.0</td>\n",
       "      <td>1.0</td>\n",
       "      <td>0.0</td>\n",
       "      <td>0.0</td>\n",
       "      <td>0.0</td>\n",
       "      <td>0.0</td>\n",
       "      <td>0.0</td>\n",
       "      <td>0.0</td>\n",
       "      <td>-1.0</td>\n",
       "      <td>0.0</td>\n",
       "      <td>0.0</td>\n",
       "      <td>0.0</td>\n",
       "      <td>0.0</td>\n",
       "      <td>-1.0</td>\n",
       "      <td>0.0</td>\n",
       "      <td>0.0</td>\n",
       "      <td>0.0</td>\n",
       "      <td>1.0</td>\n",
       "    </tr>\n",
       "    <tr>\n",
       "      <th>3</th>\n",
       "      <td>46275</td>\n",
       "      <td>0.031579</td>\n",
       "      <td>-1.403226</td>\n",
       "      <td>1.833333</td>\n",
       "      <td>0.0</td>\n",
       "      <td>0.0</td>\n",
       "      <td>0.0</td>\n",
       "      <td>0.0</td>\n",
       "      <td>1.0</td>\n",
       "      <td>0.0</td>\n",
       "      <td>0.0</td>\n",
       "      <td>0.0</td>\n",
       "      <td>0.0</td>\n",
       "      <td>0.0</td>\n",
       "      <td>0.0</td>\n",
       "      <td>-1.0</td>\n",
       "      <td>0.0</td>\n",
       "      <td>0.0</td>\n",
       "      <td>0.0</td>\n",
       "      <td>0.0</td>\n",
       "      <td>-1.0</td>\n",
       "      <td>0.0</td>\n",
       "      <td>0.0</td>\n",
       "      <td>0.0</td>\n",
       "      <td>1.0</td>\n",
       "    </tr>\n",
       "    <tr>\n",
       "      <th>4</th>\n",
       "      <td>46275</td>\n",
       "      <td>-0.435675</td>\n",
       "      <td>-1.419355</td>\n",
       "      <td>1.833333</td>\n",
       "      <td>0.0</td>\n",
       "      <td>0.0</td>\n",
       "      <td>0.0</td>\n",
       "      <td>0.0</td>\n",
       "      <td>1.0</td>\n",
       "      <td>0.0</td>\n",
       "      <td>0.0</td>\n",
       "      <td>0.0</td>\n",
       "      <td>0.0</td>\n",
       "      <td>0.0</td>\n",
       "      <td>0.0</td>\n",
       "      <td>-1.0</td>\n",
       "      <td>0.0</td>\n",
       "      <td>0.0</td>\n",
       "      <td>0.0</td>\n",
       "      <td>0.0</td>\n",
       "      <td>-1.0</td>\n",
       "      <td>0.0</td>\n",
       "      <td>0.0</td>\n",
       "      <td>0.0</td>\n",
       "      <td>1.0</td>\n",
       "    </tr>\n",
       "  </tbody>\n",
       "</table>\n",
       "</div>"
      ],
      "text/plain": [
       "   satis_fiyati  mil_miktari  galon_basına_mil  motor_gucu  yıl_2012.0  yıl_2013.0  yıl_2014.0  yıl_2015.0  yıl_2016.0  yıl_2017.0  yıl_2018.0  yıl_2019.0  yıl_2020.0  vites_türü_Manual  vites_türü_Other  vites_türü_Semi-Auto  vergi_115  vergi_125  vergi_135  vergi_140  vergi_145  vergi_150  vergi_160  vergi_165  vergi_175\n",
       "0          5200     1.861654         -1.311828   -0.666667         0.0         0.0         0.0         0.0         0.0         0.0         0.0         0.0         0.0                0.0               0.0                  -1.0        0.0        0.0        0.0        0.0       -1.0        0.0        0.0        0.0        1.0\n",
       "1         34948     0.459894          0.263441    0.333333         0.0         0.0         0.0         0.0         0.0         1.0         0.0         0.0         0.0                0.0               0.0                  -1.0        0.0        0.0        0.0        0.0       -1.0        0.0        0.0        0.0        0.0\n",
       "2         46275    -0.350012         -1.532258    1.833333         0.0         0.0         0.0         0.0         1.0         0.0         0.0         0.0         0.0                0.0               0.0                  -1.0        0.0        0.0        0.0        0.0       -1.0        0.0        0.0        0.0        1.0\n",
       "3         46275     0.031579         -1.403226    1.833333         0.0         0.0         0.0         0.0         1.0         0.0         0.0         0.0         0.0                0.0               0.0                  -1.0        0.0        0.0        0.0        0.0       -1.0        0.0        0.0        0.0        1.0\n",
       "4         46275    -0.435675         -1.419355    1.833333         0.0         0.0         0.0         0.0         1.0         0.0         0.0         0.0         0.0                0.0               0.0                  -1.0        0.0        0.0        0.0        0.0       -1.0        0.0        0.0        0.0        1.0"
      ]
     },
     "execution_count": 38,
     "metadata": {},
     "output_type": "execute_result"
    }
   ],
   "source": [
    "df.head()"
   ]
  },
  {
   "cell_type": "code",
   "execution_count": 39,
   "id": "d9dafd7a",
   "metadata": {},
   "outputs": [
    {
     "data": {
      "text/plain": [
       "satis_fiyati            13119\n",
       "mil_miktari             13119\n",
       "galon_basına_mil        13119\n",
       "motor_gucu              13119\n",
       "yıl_2012.0              13119\n",
       "yıl_2013.0              13119\n",
       "yıl_2014.0              13119\n",
       "yıl_2015.0              13119\n",
       "yıl_2016.0              13119\n",
       "yıl_2017.0              13119\n",
       "yıl_2018.0              13119\n",
       "yıl_2019.0              13119\n",
       "yıl_2020.0              13119\n",
       "vites_türü_Manual       13119\n",
       "vites_türü_Other        13119\n",
       "vites_türü_Semi-Auto    13119\n",
       "vergi_115               13119\n",
       "vergi_125               13119\n",
       "vergi_135               13119\n",
       "vergi_140               13119\n",
       "vergi_145               13119\n",
       "vergi_150               13119\n",
       "vergi_160               13119\n",
       "vergi_165               13119\n",
       "vergi_175               13119\n",
       "dtype: int64"
      ]
     },
     "execution_count": 39,
     "metadata": {},
     "output_type": "execute_result"
    }
   ],
   "source": [
    "df.count()"
   ]
  },
  {
   "cell_type": "markdown",
   "id": "d812d755",
   "metadata": {},
   "source": [
    "## 3. BÖLÜM"
   ]
  },
  {
   "cell_type": "markdown",
   "id": "c67f09c3-69ae-44e7-9875-b34d7bf1c607",
   "metadata": {},
   "source": [
    "## 3. MODELLERİN KURULUMU VE EĞİTİMİ"
   ]
  },
  {
   "cell_type": "markdown",
   "id": "bcc1d626",
   "metadata": {},
   "source": [
    "### 3.1. Eğitim - Validation - Test olarak ayrılması"
   ]
  },
  {
   "cell_type": "code",
   "execution_count": 40,
   "id": "2a9aa34d-2d65-439b-8644-33f92be20a1e",
   "metadata": {},
   "outputs": [],
   "source": [
    "from sklearn.model_selection import train_test_split\n",
    "\n",
    "# Veri setini train ve test setlerine ayırma\n",
    "X_train, X_temp, y_train, y_temp = train_test_split(X, y, test_size=0.2, random_state=17)\n",
    "\n",
    "# Kalan veri setini validation ve test setlerine ayırma\n",
    "X_validation, X_test, y_validation, y_test = train_test_split(X_temp, y_temp, test_size=0.5, random_state=17)\n"
   ]
  },
  {
   "cell_type": "code",
   "execution_count": 41,
   "id": "80bb6f7b-87b3-46fc-9235-a1e3ddf1fbc8",
   "metadata": {},
   "outputs": [
    {
     "data": {
      "text/html": [
       "<div>\n",
       "<style scoped>\n",
       "    .dataframe tbody tr th:only-of-type {\n",
       "        vertical-align: middle;\n",
       "    }\n",
       "\n",
       "    .dataframe tbody tr th {\n",
       "        vertical-align: top;\n",
       "    }\n",
       "\n",
       "    .dataframe thead th {\n",
       "        text-align: right;\n",
       "    }\n",
       "</style>\n",
       "<table border=\"1\" class=\"dataframe\">\n",
       "  <thead>\n",
       "    <tr style=\"text-align: right;\">\n",
       "      <th></th>\n",
       "      <th>mil_miktari</th>\n",
       "      <th>galon_basına_mil</th>\n",
       "      <th>motor_gucu</th>\n",
       "      <th>yıl_2012.0</th>\n",
       "      <th>yıl_2013.0</th>\n",
       "      <th>yıl_2014.0</th>\n",
       "      <th>yıl_2015.0</th>\n",
       "      <th>yıl_2016.0</th>\n",
       "      <th>yıl_2017.0</th>\n",
       "      <th>yıl_2018.0</th>\n",
       "      <th>yıl_2019.0</th>\n",
       "      <th>yıl_2020.0</th>\n",
       "      <th>vites_türü_Manual</th>\n",
       "      <th>vites_türü_Other</th>\n",
       "      <th>vites_türü_Semi-Auto</th>\n",
       "      <th>vergi_115</th>\n",
       "      <th>vergi_125</th>\n",
       "      <th>vergi_135</th>\n",
       "      <th>vergi_140</th>\n",
       "      <th>vergi_145</th>\n",
       "      <th>vergi_150</th>\n",
       "      <th>vergi_160</th>\n",
       "      <th>vergi_165</th>\n",
       "      <th>vergi_175</th>\n",
       "    </tr>\n",
       "  </thead>\n",
       "  <tbody>\n",
       "    <tr>\n",
       "      <th>1957</th>\n",
       "      <td>23811.0</td>\n",
       "      <td>61.4</td>\n",
       "      <td>2.0</td>\n",
       "      <td>0</td>\n",
       "      <td>0</td>\n",
       "      <td>0</td>\n",
       "      <td>0</td>\n",
       "      <td>0</td>\n",
       "      <td>1</td>\n",
       "      <td>0</td>\n",
       "      <td>0</td>\n",
       "      <td>0</td>\n",
       "      <td>0</td>\n",
       "      <td>0</td>\n",
       "      <td>0</td>\n",
       "      <td>0</td>\n",
       "      <td>0</td>\n",
       "      <td>0</td>\n",
       "      <td>0</td>\n",
       "      <td>1</td>\n",
       "      <td>0</td>\n",
       "      <td>0</td>\n",
       "      <td>0</td>\n",
       "      <td>0</td>\n",
       "    </tr>\n",
       "    <tr>\n",
       "      <th>7521</th>\n",
       "      <td>3225.0</td>\n",
       "      <td>38.2</td>\n",
       "      <td>2.0</td>\n",
       "      <td>0</td>\n",
       "      <td>0</td>\n",
       "      <td>0</td>\n",
       "      <td>0</td>\n",
       "      <td>0</td>\n",
       "      <td>0</td>\n",
       "      <td>0</td>\n",
       "      <td>1</td>\n",
       "      <td>0</td>\n",
       "      <td>0</td>\n",
       "      <td>0</td>\n",
       "      <td>1</td>\n",
       "      <td>0</td>\n",
       "      <td>0</td>\n",
       "      <td>0</td>\n",
       "      <td>0</td>\n",
       "      <td>1</td>\n",
       "      <td>0</td>\n",
       "      <td>0</td>\n",
       "      <td>0</td>\n",
       "      <td>0</td>\n",
       "    </tr>\n",
       "    <tr>\n",
       "      <th>5667</th>\n",
       "      <td>27292.0</td>\n",
       "      <td>56.5</td>\n",
       "      <td>2.1</td>\n",
       "      <td>0</td>\n",
       "      <td>0</td>\n",
       "      <td>0</td>\n",
       "      <td>0</td>\n",
       "      <td>1</td>\n",
       "      <td>0</td>\n",
       "      <td>0</td>\n",
       "      <td>0</td>\n",
       "      <td>0</td>\n",
       "      <td>0</td>\n",
       "      <td>0</td>\n",
       "      <td>1</td>\n",
       "      <td>0</td>\n",
       "      <td>1</td>\n",
       "      <td>0</td>\n",
       "      <td>0</td>\n",
       "      <td>0</td>\n",
       "      <td>0</td>\n",
       "      <td>0</td>\n",
       "      <td>0</td>\n",
       "      <td>0</td>\n",
       "    </tr>\n",
       "    <tr>\n",
       "      <th>3754</th>\n",
       "      <td>21067.0</td>\n",
       "      <td>68.9</td>\n",
       "      <td>2.1</td>\n",
       "      <td>0</td>\n",
       "      <td>0</td>\n",
       "      <td>0</td>\n",
       "      <td>0</td>\n",
       "      <td>1</td>\n",
       "      <td>0</td>\n",
       "      <td>0</td>\n",
       "      <td>0</td>\n",
       "      <td>0</td>\n",
       "      <td>0</td>\n",
       "      <td>0</td>\n",
       "      <td>1</td>\n",
       "      <td>0</td>\n",
       "      <td>0</td>\n",
       "      <td>0</td>\n",
       "      <td>0</td>\n",
       "      <td>0</td>\n",
       "      <td>0</td>\n",
       "      <td>0</td>\n",
       "      <td>0</td>\n",
       "      <td>0</td>\n",
       "    </tr>\n",
       "    <tr>\n",
       "      <th>1639</th>\n",
       "      <td>70302.5</td>\n",
       "      <td>54.3</td>\n",
       "      <td>2.1</td>\n",
       "      <td>0</td>\n",
       "      <td>0</td>\n",
       "      <td>1</td>\n",
       "      <td>0</td>\n",
       "      <td>0</td>\n",
       "      <td>0</td>\n",
       "      <td>0</td>\n",
       "      <td>0</td>\n",
       "      <td>0</td>\n",
       "      <td>0</td>\n",
       "      <td>0</td>\n",
       "      <td>1</td>\n",
       "      <td>0</td>\n",
       "      <td>0</td>\n",
       "      <td>0</td>\n",
       "      <td>0</td>\n",
       "      <td>1</td>\n",
       "      <td>0</td>\n",
       "      <td>0</td>\n",
       "      <td>0</td>\n",
       "      <td>0</td>\n",
       "    </tr>\n",
       "  </tbody>\n",
       "</table>\n",
       "</div>"
      ],
      "text/plain": [
       "      mil_miktari  galon_basına_mil  motor_gucu  yıl_2012.0  yıl_2013.0  yıl_2014.0  yıl_2015.0  yıl_2016.0  yıl_2017.0  yıl_2018.0  yıl_2019.0  yıl_2020.0  vites_türü_Manual  vites_türü_Other  vites_türü_Semi-Auto  vergi_115  vergi_125  vergi_135  vergi_140  vergi_145  vergi_150  vergi_160  vergi_165  vergi_175\n",
       "1957      23811.0              61.4         2.0           0           0           0           0           0           1           0           0           0                  0                 0                     0          0          0          0          0          1          0          0          0          0\n",
       "7521       3225.0              38.2         2.0           0           0           0           0           0           0           0           1           0                  0                 0                     1          0          0          0          0          1          0          0          0          0\n",
       "5667      27292.0              56.5         2.1           0           0           0           0           1           0           0           0           0                  0                 0                     1          0          1          0          0          0          0          0          0          0\n",
       "3754      21067.0              68.9         2.1           0           0           0           0           1           0           0           0           0                  0                 0                     1          0          0          0          0          0          0          0          0          0\n",
       "1639      70302.5              54.3         2.1           0           0           1           0           0           0           0           0           0                  0                 0                     1          0          0          0          0          1          0          0          0          0"
      ]
     },
     "execution_count": 41,
     "metadata": {},
     "output_type": "execute_result"
    }
   ],
   "source": [
    "X_train.head()"
   ]
  },
  {
   "cell_type": "code",
   "execution_count": 114,
   "id": "e2ac5f52-5781-4523-acab-99a90bd3ebb2",
   "metadata": {},
   "outputs": [
    {
     "data": {
      "text/plain": [
       "mil_miktari             10495\n",
       "galon_basına_mil        10495\n",
       "motor_gucu              10495\n",
       "yıl_2012.0              10495\n",
       "yıl_2013.0              10495\n",
       "yıl_2014.0              10495\n",
       "yıl_2015.0              10495\n",
       "yıl_2016.0              10495\n",
       "yıl_2017.0              10495\n",
       "yıl_2018.0              10495\n",
       "yıl_2019.0              10495\n",
       "yıl_2020.0              10495\n",
       "vites_türü_Manual       10495\n",
       "vites_türü_Other        10495\n",
       "vites_türü_Semi-Auto    10495\n",
       "vergi_115               10495\n",
       "vergi_125               10495\n",
       "vergi_135               10495\n",
       "vergi_140               10495\n",
       "vergi_145               10495\n",
       "vergi_150               10495\n",
       "vergi_160               10495\n",
       "vergi_165               10495\n",
       "vergi_175               10495\n",
       "dtype: int64"
      ]
     },
     "execution_count": 114,
     "metadata": {},
     "output_type": "execute_result"
    }
   ],
   "source": [
    "X_train.count()"
   ]
  },
  {
   "cell_type": "code",
   "execution_count": 115,
   "id": "2414832a-313d-49eb-8410-e0ee12f3df0b",
   "metadata": {},
   "outputs": [
    {
     "data": {
      "text/plain": [
       "mil_miktari             1312\n",
       "galon_basına_mil        1312\n",
       "motor_gucu              1312\n",
       "yıl_2012.0              1312\n",
       "yıl_2013.0              1312\n",
       "yıl_2014.0              1312\n",
       "yıl_2015.0              1312\n",
       "yıl_2016.0              1312\n",
       "yıl_2017.0              1312\n",
       "yıl_2018.0              1312\n",
       "yıl_2019.0              1312\n",
       "yıl_2020.0              1312\n",
       "vites_türü_Manual       1312\n",
       "vites_türü_Other        1312\n",
       "vites_türü_Semi-Auto    1312\n",
       "vergi_115               1312\n",
       "vergi_125               1312\n",
       "vergi_135               1312\n",
       "vergi_140               1312\n",
       "vergi_145               1312\n",
       "vergi_150               1312\n",
       "vergi_160               1312\n",
       "vergi_165               1312\n",
       "vergi_175               1312\n",
       "dtype: int64"
      ]
     },
     "execution_count": 115,
     "metadata": {},
     "output_type": "execute_result"
    }
   ],
   "source": [
    "X_test.count()"
   ]
  },
  {
   "cell_type": "markdown",
   "id": "36db6536",
   "metadata": {},
   "source": [
    "### 3.2. Base Modellerin kurulumu"
   ]
  },
  {
   "cell_type": "code",
   "execution_count": 146,
   "id": "af1d7850",
   "metadata": {},
   "outputs": [],
   "source": [
    "import warnings\n",
    "# Tüm uyarıları kapatmak için\n",
    "warnings.filterwarnings(\"ignore\")\n",
    "from sklearn.linear_model import RANSACRegressor\n",
    "from sklearn.isotonic import IsotonicRegression\n",
    "from sklearn.ensemble import GradientBoostingRegressor\n",
    "from sklearn.ensemble import VotingRegressor\n",
    "from sklearn.ensemble import HistGradientBoostingRegressor\n",
    "from sklearn.experimental import enable_hist_gradient_boosting  # noqa\n",
    "from sklearn.compose import TransformedTargetRegressor\n",
    "from sklearn.ensemble import StackingRegressor\n",
    "from sklearn.linear_model import PoissonRegressor\n",
    "from sklearn.linear_model import TweedieRegressor\n",
    "from sklearn.linear_model import GammaRegressor\n",
    "from sklearn.model_selection import cross_validate\n",
    "from sklearn.linear_model import LinearRegression, Ridge, Lasso, ElasticNet, RidgeCV, LassoCV, ElasticNetCV\n",
    "from sklearn.svm import SVR\n",
    "from sklearn.tree import DecisionTreeRegressor\n",
    "from sklearn.ensemble import RandomForestRegressor, AdaBoostRegressor, GradientBoostingRegressor\n",
    "from xgboost import XGBRegressor\n",
    "from lightgbm import LGBMRegressor\n",
    "from sklearn.preprocessing import PolynomialFeatures\n",
    "from sklearn.neighbors import KNeighborsRegressor\n",
    "from sklearn.preprocessing import PolynomialFeatures\n",
    "from sklearn.neighbors import KNeighborsRegressor\n",
    "from sklearn.svm import LinearSVR\n",
    "from sklearn.neural_network import MLPRegressor\n",
    "from sklearn.linear_model import PassiveAggressiveRegressor\n",
    "from sklearn.linear_model import HuberRegressor\n",
    "from sklearn.linear_model import SGDRegressor\n",
    "from sklearn.kernel_ridge import KernelRidge\n",
    "from sklearn.gaussian_process import GaussianProcessRegressor\n",
    "from sklearn.gaussian_process.kernels import DotProduct, WhiteKernel\n",
    "from sklearn.ensemble import ExtraTreesRegressor, BaggingRegressor\n",
    "from sklearn.tree import ExtraTreeRegressor\n",
    "def base_models_regression(X_train, y_train, scoring=\"neg_mean_squared_error\"):\n",
    "    print(\"Base Models for Regression....\")\n",
    "    regressors = [('Linear Regression', LinearRegression()),\n",
    "                  ('Ridge Regression', Ridge(alpha=0.1)),\n",
    "                  ('Lasso', Lasso()),\n",
    "                  ('Elastic', ElasticNet()),\n",
    "                  ('RidgeCV', RidgeCV()),\n",
    "                  ('LassoCV', LassoCV()),\n",
    "                  ('ElasticNetCV', ElasticNetCV()),\n",
    "                  (\"SVR\", SVR(max_iter=100000)),\n",
    "                  (\"Linear SVR\", LinearSVR(max_iter=10000)),\n",
    "                  (\"Decision Tree\", DecisionTreeRegressor()),\n",
    "                  (\"Random Forest\", RandomForestRegressor()),\n",
    "                  ('Adaboost Regressor', AdaBoostRegressor()),\n",
    "                  ('Gradient Boosting Regressor', GradientBoostingRegressor()),\n",
    "                  ('XGBoost Regressor', XGBRegressor(use_label_encoder=False, eval_metric='logloss')),\n",
    "                  ('LightGBM Regressor', LGBMRegressor()),\n",
    "                  ('Polynomial Regression', PolynomialFeatures()),\n",
    "                  ('KNN Regressor', KNeighborsRegressor()),\n",
    "                  ('MLP Regressor', MLPRegressor(max_iter=1000)),\n",
    "                  ('Passive Aggressive Regressor', PassiveAggressiveRegressor()),\n",
    "                  ('Huber Regressor', HuberRegressor(max_iter=1000)),\n",
    "                  ('SGD Regressor', SGDRegressor()),\n",
    "                  ('Kernel Ridge Regression', KernelRidge()),\n",
    "                  ('Gaussian Process Regression', GaussianProcessRegressor(kernel=DotProduct() + WhiteKernel())),\n",
    "                  ('Extra Trees Regressor', ExtraTreesRegressor()),\n",
    "                  ('Bagging Regressor', BaggingRegressor()),\n",
    "                  ('Extra Tree Regressor', ExtraTreeRegressor()),\n",
    "                  ('RANSAC Regressor', RANSACRegressor()),\n",
    "                  ('Quantile Regressor', GradientBoostingRegressor(loss='quantile')),\n",
    "                  ('Gamma Regressor', GammaRegressor()),\n",
    "                  ('Tweedie Regressor', TweedieRegressor()),\n",
    "                  ('Poisson Regressor', PoissonRegressor())]\n",
    "\n",
    "    for name, regressor in regressors:\n",
    "        if isinstance(regressor, PolynomialFeatures):\n",
    "            poly = PolynomialFeatures(degree=2)\n",
    "            X_poly = poly.fit_transform(X)\n",
    "            cv_results = cross_validate(LinearRegression(), X_poly, y, cv=3, scoring=scoring)\n",
    "        elif isinstance(regressor, KNeighborsRegressor):\n",
    "            cv_results = cross_validate(KNeighborsRegressor(), X, y, cv=3, scoring=scoring)\n",
    "        else:\n",
    "            cv_results = cross_validate(regressor, X, y, cv=3, scoring=scoring)\n",
    "        print(f\"{scoring}: {round(np.abs(cv_results['test_score'].mean()), 4)} ({name}) \")\n",
    "\n",
    "\n"
   ]
  },
  {
   "cell_type": "code",
   "execution_count": null,
   "id": "8602bf07",
   "metadata": {
    "scrolled": true
   },
   "outputs": [
    {
     "name": "stdout",
     "output_type": "stream",
     "text": [
      "Base Models for Regression....\n",
      "neg_mean_squared_error: 18117767.7629 (Linear Regression) \n",
      "neg_mean_squared_error: 18134588.1252 (Ridge Regression) \n",
      "neg_mean_squared_error: 18191733.7824 (Lasso) \n",
      "neg_mean_squared_error: 34424674.6555 (Elastic) \n",
      "neg_mean_squared_error: 18177588.5359 (RidgeCV) \n",
      "neg_mean_squared_error: 52051800.1316 (LassoCV) \n",
      "neg_mean_squared_error: 52052481.0376 (ElasticNetCV) \n",
      "neg_mean_squared_error: 89553681.2497 (SVR) \n",
      "neg_mean_squared_error: 160348968.9223 (Linear SVR) \n",
      "neg_mean_squared_error: 15316787.8337 (Decision Tree) \n",
      "neg_mean_squared_error: 9095424.5268 (Random Forest) \n",
      "neg_mean_squared_error: 24411469.5144 (Adaboost Regressor) \n",
      "neg_mean_squared_error: 13524315.2222 (Gradient Boosting Regressor) \n",
      "neg_mean_squared_error: 8803754.0866 (XGBoost Regressor) \n",
      "neg_mean_squared_error: 8705527.3367 (LightGBM Regressor) \n",
      "neg_mean_squared_error: 50122965.5579 (Polynomial Regression) \n",
      "neg_mean_squared_error: 43960368.3964 (KNN Regressor) \n",
      "neg_mean_squared_error: 28543178.6487 (MLP Regressor) \n",
      "neg_mean_squared_error: 1694456620.2518 (Passive Aggressive Regressor) \n",
      "neg_mean_squared_error: 36056547.3487 (Huber Regressor) \n",
      "neg_mean_squared_error: 1.3447253517456442e+35 (SGD Regressor) \n",
      "neg_mean_squared_error: 18071522.2592 (Kernel Ridge Regression) \n"
     ]
    }
   ],
   "source": [
    "base_models_regression(X_train, y_train, scoring=\"neg_mean_squared_error\")"
   ]
  },
  {
   "cell_type": "markdown",
   "id": "37afaf41",
   "metadata": {},
   "source": [
    "### 3.3. Hiperparametre Optimizasyonu"
   ]
  },
  {
   "cell_type": "code",
   "execution_count": 123,
   "id": "2150ad53",
   "metadata": {},
   "outputs": [],
   "source": [
    "from sklearn.linear_model import Ridge, Lasso, ElasticNet, RidgeCV, LassoCV, ElasticNetCV\n",
    "from sklearn.svm import SVR, LinearSVR\n",
    "from sklearn.tree import DecisionTreeRegressor\n",
    "from sklearn.ensemble import RandomForestRegressor, AdaBoostRegressor, GradientBoostingRegressor\n",
    "from xgboost import XGBRegressor\n",
    "from lightgbm import LGBMRegressor\n",
    "from sklearn.neighbors import KNeighborsRegressor\n",
    "from sklearn.linear_model import PassiveAggressiveRegressor\n",
    "from sklearn.linear_model import HuberRegressor\n",
    "from sklearn.linear_model import SGDRegressor\n",
    "from sklearn.kernel_ridge import KernelRidge\n",
    "from sklearn.gaussian_process import GaussianProcessRegressor\n",
    "from sklearn.gaussian_process.kernels import DotProduct, WhiteKernel\n",
    "from sklearn.ensemble import ExtraTreesRegressor, BaggingRegressor\n",
    "from sklearn.tree import ExtraTreeRegressor\n",
    "\n",
    "# Hiperparametre aralıklarını belirleme\n",
    "ridge_params = {\"alpha\": [0.1, 1.0, 10.0]}  \n",
    "lasso_params = {\"alpha\": [0.1, 1.0, 10.0]}  \n",
    "elasticnet_params = {\"alpha\": [0.1, 1.0, 10.0], \"l1_ratio\": [0.1, 0.5, 0.9]}  \n",
    "svr_params = {\"C\": [0.1, 1.0, 10.0], \"epsilon\": [0.1, 0.01]}  \n",
    "decisiontree_params = {'max_depth': range(1, 20), \"min_samples_split\": range(2, 30)}  \n",
    "randomforest_params = {\"max_depth\": [8, 15, None], \"max_features\": [5, 7, \"auto\"], \"min_samples_split\": [15, 20], \"n_estimators\": [200, 300]} \n",
    "adaboost_params = {\"n_estimators\": [50, 100, 200]} \n",
    "gradientboost_params = {\"learning_rate\": [0.05, 0.1, 0.2], \"n_estimators\": [50, 100, 200], \"max_depth\": [3, 4, 5]}  \n",
    "xgboost_params = {\"learning_rate\": [0.1, 0.01], \"max_depth\": [5, 8], \"n_estimators\": [100, 200], \"colsample_bytree\": [0.5, 1]}  \n",
    "lightgbm_params = {\"learning_rate\": [0.01, 0.1], \"n_estimators\": [300, 500], \"colsample_bytree\": [0.7, 1]}  \n",
    "kneighbors_params = {\"n_neighbors\": [3, 5, 7], \"weights\": [\"uniform\", \"distance\"]} \n",
    "passiveaggressive_params = {\"C\": [0.1, 1.0, 10.0]}  \n",
    "huber_params = {\"epsilon\": [1.1, 1.35]}  \n",
    "sgd_params = {\"alpha\": [0.0001, 0.001, 0.01]}  \n",
    "kernelridge_params = {\"alpha\": [0.1, 1.0, 10.0]}  \n",
    "gaussianprocess_params = {\"kernel\": [DotProduct() + WhiteKernel()]}  \n",
    "extratrees_params = {\"n_estimators\": [100, 200, 300], \"max_features\": [\"auto\", \"sqrt\", \"log2\"]} \n",
    "bagging_params = {\"n_estimators\": [10, 20, 30]} \n",
    "extratree_params = {\"max_depth\": [None, 10, 20], \"min_samples_split\": [2, 5, 10]}  \n",
    "# Her bir model ve ilgili hiperparametre aralığını bir dizi içinde belirleme\n",
    "regressors = [\n",
    "    (\"Ridge Regression\", Ridge(), ridge_params),\n",
    "    (\"Lasso\", Lasso(), lasso_params),\n",
    "    (\"ElasticNet\", ElasticNet(), elasticnet_params),\n",
    "    (\"SVR\", SVR(), svr_params),\n",
    "    (\"Linear SVR\", LinearSVR(), svr_params),\n",
    "    (\"Decision Tree\", DecisionTreeRegressor(), decisiontree_params),\n",
    "    (\"Random Forest\", RandomForestRegressor(), randomforest_params),\n",
    "    (\"AdaBoost Regressor\", AdaBoostRegressor(), adaboost_params),\n",
    "    (\"Gradient Boosting Regressor\", GradientBoostingRegressor(), gradientboost_params),\n",
    "    ('XGBoost Regressor', XGBRegressor(use_label_encoder=False, eval_metric='logloss'), xgboost_params),\n",
    "    ('LightGBM Regressor', LGBMRegressor(), lightgbm_params),\n",
    "    (\"KNN Regressor\", KNeighborsRegressor(), kneighbors_params),\n",
    "    (\"Passive Aggressive Regressor\", PassiveAggressiveRegressor(), passiveaggressive_params),\n",
    "    (\"Huber Regressor\", HuberRegressor(), huber_params),\n",
    "    (\"SGD Regressor\", SGDRegressor(), sgd_params),\n",
    "    (\"Kernel Ridge Regression\", KernelRidge(), kernelridge_params),\n",
    "    (\"Extra Trees Regressor\", ExtraTreesRegressor(), extratrees_params),\n",
    "    (\"Bagging Regressor\", BaggingRegressor(), bagging_params),\n",
    "    (\"Extra Tree Regressor\", ExtraTreeRegressor(), extratree_params)\n",
    "]"
   ]
  },
  {
   "cell_type": "code",
   "execution_count": 121,
   "id": "a8a17844",
   "metadata": {},
   "outputs": [],
   "source": [
    "from sklearn.model_selection import GridSearchCV, cross_validate\n",
    "\n",
    "def hyperparameter_optimization(X, y, cv=3, scoring=\"neg_mean_squared_error\"):\n",
    "    print(\"Hyperparameter Optimization....\")\n",
    "    best_models = {}\n",
    "    for name, regressor, params in regressors:\n",
    "        print(f\"########## {name} ##########\")\n",
    "        cv_results = cross_validate(regressor, X, y, cv=cv, scoring=scoring)\n",
    "        print(f\"{scoring} (Before): {abs(round(cv_results['test_score'].mean(), 4))}\")\n",
    "\n",
    "        gs_best = GridSearchCV(regressor, params, cv=cv, n_jobs=-1, verbose=False).fit(X, y)\n",
    "        final_model = regressor.set_params(**gs_best.best_params_)\n",
    "\n",
    "        cv_results = cross_validate(final_model, X, y, cv=cv, scoring=scoring)\n",
    "        print(f\"{scoring} (After): {abs(round(cv_results['test_score'].mean(), 4))}\")\n",
    "        print(f\"{name} best params: {gs_best.best_params_}\", end=\"\\n\\n\")\n",
    "        best_models[name] = final_model\n",
    "    return best_models\n"
   ]
  },
  {
   "cell_type": "code",
   "execution_count": 122,
   "id": "0aa04552",
   "metadata": {},
   "outputs": [
    {
     "name": "stdout",
     "output_type": "stream",
     "text": [
      "Hyperparameter Optimization....\n",
      "########## Ridge Regression ##########\n",
      "neg_mean_squared_error (Before): 17030474.441\n",
      "neg_mean_squared_error (After): 17011751.5214\n",
      "Ridge Regression best params: {'alpha': 0.1}\n",
      "\n",
      "########## Lasso ##########\n",
      "neg_mean_squared_error (Before): 17000619.6067\n",
      "neg_mean_squared_error (After): 17000619.6067\n",
      "Lasso best params: {'alpha': 1.0}\n",
      "\n",
      "########## ElasticNet ##########\n",
      "neg_mean_squared_error (Before): 33422818.967\n",
      "neg_mean_squared_error (After): 20342396.8793\n",
      "ElasticNet best params: {'alpha': 0.1, 'l1_ratio': 0.9}\n",
      "\n",
      "########## SVR ##########\n",
      "neg_mean_squared_error (Before): 80929355.304\n",
      "neg_mean_squared_error (After): 59571403.8018\n",
      "SVR best params: {'C': 10.0, 'epsilon': 0.01}\n",
      "\n",
      "########## Linear SVR ##########\n",
      "neg_mean_squared_error (Before): 5535645827.4265\n",
      "neg_mean_squared_error (After): 13661195261.1155\n",
      "Linear SVR best params: {'C': 10.0, 'epsilon': 0.01}\n",
      "\n",
      "########## Decision Tree ##########\n",
      "neg_mean_squared_error (Before): 13517328.1808\n",
      "neg_mean_squared_error (After): 10342088.8586\n",
      "Decision Tree best params: {'max_depth': 16, 'min_samples_split': 27}\n",
      "\n",
      "########## Random Forest ##########\n",
      "neg_mean_squared_error (Before): 8267374.9827\n",
      "neg_mean_squared_error (After): 8100482.5129\n",
      "Random Forest best params: {'max_depth': None, 'max_features': 'auto', 'min_samples_split': 15, 'n_estimators': 200}\n",
      "\n",
      "########## AdaBoost Regressor ##########\n",
      "neg_mean_squared_error (Before): 24627520.8952\n",
      "neg_mean_squared_error (After): 24234133.7493\n",
      "AdaBoost Regressor best params: {'n_estimators': 100}\n",
      "\n",
      "########## Gradient Boosting Regressor ##########\n",
      "neg_mean_squared_error (Before): 11887680.5799\n",
      "neg_mean_squared_error (After): 7345341.6404\n",
      "Gradient Boosting Regressor best params: {'learning_rate': 0.2, 'max_depth': 5, 'n_estimators': 200}\n",
      "\n",
      "########## XGBoost Regressor ##########\n",
      "neg_mean_squared_error (Before): 7667962.7324\n",
      "neg_mean_squared_error (After): 7070832.0939\n",
      "XGBoost Regressor best params: {'colsample_bytree': 0.5, 'learning_rate': 0.1, 'max_depth': 8, 'n_estimators': 200}\n",
      "\n",
      "########## LightGBM Regressor ##########\n",
      "neg_mean_squared_error (Before): 7467818.5419\n",
      "neg_mean_squared_error (After): 6808392.6164\n",
      "LightGBM Regressor best params: {'colsample_bytree': 0.7, 'learning_rate': 0.1, 'n_estimators': 500}\n",
      "\n",
      "########## KNN Regressor ##########\n",
      "neg_mean_squared_error (Before): 44164503.5331\n",
      "neg_mean_squared_error (After): 41757366.5471\n",
      "KNN Regressor best params: {'n_neighbors': 7, 'weights': 'distance'}\n",
      "\n",
      "########## Passive Aggressive Regressor ##########\n",
      "neg_mean_squared_error (Before): 1436556889.1984\n",
      "neg_mean_squared_error (After): 273557830481.991\n",
      "Passive Aggressive Regressor best params: {'C': 10.0}\n",
      "\n",
      "########## Huber Regressor ##########\n",
      "neg_mean_squared_error (Before): 148200274.0275\n",
      "neg_mean_squared_error (After): 148200274.0275\n",
      "Huber Regressor best params: {'epsilon': 1.35}\n",
      "\n",
      "########## SGD Regressor ##########\n",
      "neg_mean_squared_error (Before): 3.1651557012888924e+34\n",
      "neg_mean_squared_error (After): 1.0664841094745926e+35\n",
      "SGD Regressor best params: {'alpha': 0.0001}\n",
      "\n",
      "########## Kernel Ridge Regression ##########\n",
      "neg_mean_squared_error (Before): 17017187.841\n",
      "neg_mean_squared_error (After): 17006659.3169\n",
      "Kernel Ridge Regression best params: {'alpha': 0.1}\n",
      "\n",
      "########## Extra Trees Regressor ##########\n",
      "neg_mean_squared_error (Before): 8422896.4841\n",
      "neg_mean_squared_error (After): 8371684.6776\n",
      "Extra Trees Regressor best params: {'max_features': 'auto', 'n_estimators': 300}\n",
      "\n",
      "########## Bagging Regressor ##########\n",
      "neg_mean_squared_error (Before): 8945026.2097\n",
      "neg_mean_squared_error (After): 8356583.1115\n",
      "Bagging Regressor best params: {'n_estimators': 30}\n",
      "\n",
      "########## Extra Tree Regressor ##########\n",
      "neg_mean_squared_error (Before): 13399098.7888\n",
      "neg_mean_squared_error (After): 10617666.4431\n",
      "Extra Tree Regressor best params: {'max_depth': 20, 'min_samples_split': 5}\n",
      "\n"
     ]
    }
   ],
   "source": [
    "best_models=hyperparameter_optimization(X_train,y_train)"
   ]
  },
  {
   "cell_type": "markdown",
   "id": "37cdea55",
   "metadata": {},
   "source": [
    "### 3.4. En iyi Modellerin Karmasından Oluşturulan Model"
   ]
  },
  {
   "cell_type": "code",
   "execution_count": 148,
   "id": "b8778cc9",
   "metadata": {},
   "outputs": [],
   "source": [
    "from sklearn.ensemble import VotingRegressor\n",
    "from sklearn.model_selection import cross_validate\n",
    "from sklearn.metrics import mean_squared_error\n",
    "\n",
    "def voting_regressor(best_models, X, y):\n",
    "    print(\"Voting Regressor...\")\n",
    "    voting_reg = VotingRegressor(estimators=[('XGBoost Regressor', best_models[\"XGBoost Regressor\"]),\n",
    "                                             ('LightGBM Regressor', best_models[\"LightGBM Regressor\"]),\n",
    "                                              ('Gradient Boosting Regressor', best_models[\"Gradient Boosting Regressor\"])],\n",
    "                                 n_jobs=-1).fit(X, y)\n",
    "    \n",
    "    cv_results = cross_validate(voting_reg, X, y, cv=3, scoring=\"neg_mean_squared_error\")\n",
    "    \n",
    "    neg_mse_mean = -cv_results['test_score'].mean()\n",
    "    \n",
    "    print(f\"Negative Mean Squared Error: {neg_mse_mean}\")\n",
    "    \n",
    "    return voting_reg"
   ]
  },
  {
   "cell_type": "code",
   "execution_count": 149,
   "id": "8c23be5d",
   "metadata": {},
   "outputs": [
    {
     "data": {
      "text/plain": [
       "{'Ridge Regression': Ridge(alpha=0.1),\n",
       " 'Lasso': Lasso(),\n",
       " 'ElasticNet': ElasticNet(alpha=0.1, l1_ratio=0.9),\n",
       " 'SVR': SVR(C=10.0, epsilon=0.01),\n",
       " 'Linear SVR': LinearSVR(C=10.0, epsilon=0.01),\n",
       " 'Decision Tree': DecisionTreeRegressor(max_depth=16, min_samples_split=27),\n",
       " 'Random Forest': RandomForestRegressor(min_samples_split=15, n_estimators=200),\n",
       " 'AdaBoost Regressor': AdaBoostRegressor(n_estimators=100),\n",
       " 'Gradient Boosting Regressor': GradientBoostingRegressor(learning_rate=0.2, max_depth=5, n_estimators=200),\n",
       " 'XGBoost Regressor': XGBRegressor(base_score=None, booster=None, callbacks=None,\n",
       "              colsample_bylevel=None, colsample_bynode=None,\n",
       "              colsample_bytree=0.5, early_stopping_rounds=None,\n",
       "              enable_categorical=False, eval_metric='logloss',\n",
       "              feature_types=None, gamma=None, gpu_id=None, grow_policy=None,\n",
       "              importance_type=None, interaction_constraints=None,\n",
       "              learning_rate=0.1, max_bin=None, max_cat_threshold=None,\n",
       "              max_cat_to_onehot=None, max_delta_step=None, max_depth=8,\n",
       "              max_leaves=None, min_child_weight=None, missing=nan,\n",
       "              monotone_constraints=None, n_estimators=200, n_jobs=None,\n",
       "              num_parallel_tree=None, predictor=None, random_state=None, ...),\n",
       " 'LightGBM Regressor': LGBMRegressor(colsample_bytree=0.7, n_estimators=500),\n",
       " 'KNN Regressor': KNeighborsRegressor(n_neighbors=7, weights='distance'),\n",
       " 'Passive Aggressive Regressor': PassiveAggressiveRegressor(C=10.0),\n",
       " 'Huber Regressor': HuberRegressor(),\n",
       " 'SGD Regressor': SGDRegressor(),\n",
       " 'Kernel Ridge Regression': KernelRidge(alpha=0.1),\n",
       " 'Extra Trees Regressor': ExtraTreesRegressor(n_estimators=300),\n",
       " 'Bagging Regressor': BaggingRegressor(n_estimators=30),\n",
       " 'Extra Tree Regressor': ExtraTreeRegressor(max_depth=20, min_samples_split=5)}"
      ]
     },
     "execution_count": 149,
     "metadata": {},
     "output_type": "execute_result"
    }
   ],
   "source": [
    "best_models"
   ]
  },
  {
   "cell_type": "code",
   "execution_count": 150,
   "id": "ab6f1e30",
   "metadata": {},
   "outputs": [
    {
     "name": "stdout",
     "output_type": "stream",
     "text": [
      "Voting Regressor...\n",
      "Negative Mean Squared Error: 6674945.317501019\n"
     ]
    }
   ],
   "source": [
    "voting_reg=voting_regressor(best_models,X_train,y_train)"
   ]
  },
  {
   "cell_type": "markdown",
   "id": "1eeff646",
   "metadata": {},
   "source": [
    "### 3.5. En Başarılı Modelde Hata Oranı"
   ]
  },
  {
   "cell_type": "code",
   "execution_count": 47,
   "id": "66be5205",
   "metadata": {},
   "outputs": [],
   "source": [
    "train_pred=voting_reg.predict(X_train)\n",
    "val_pred=voting_reg.predict(X_validation)\n",
    "test_pred=voting_reg.predict(X_test)"
   ]
  },
  {
   "cell_type": "code",
   "execution_count": 48,
   "id": "bd93a1e9",
   "metadata": {},
   "outputs": [],
   "source": [
    "from sklearn.metrics import mean_squared_error, mean_absolute_error\n",
    "from math import sqrt\n",
    "\n",
    "def calculate_rmse_mae_mse_for_custom_splits(y_true_train, y_pred_train, y_true_val, y_pred_val, y_true_test, y_pred_test):\n",
    "    \"\"\"\n",
    "    Verilen gerçek ve tahmin edilen değerler için RMSE, MAE ve MSE hesaplar.\n",
    "\n",
    "    Parameters:\n",
    "    - y_true_train: Eğitim setindeki gerçek değerler\n",
    "    - y_pred_train: Eğitim setindeki tahmin edilen değerler\n",
    "    - y_true_val: Doğrulama setindeki gerçek değerler\n",
    "    - y_pred_val: Doğrulama setindeki tahmin edilen değerler\n",
    "    - y_true_test: Test setindeki gerçek değerler\n",
    "    - y_pred_test: Test setindeki tahmin edilen değerler\n",
    "\n",
    "    Returns:\n",
    "    - train_rmse: Eğitim seti RMSE\n",
    "    - val_rmse: Doğrulama seti RMSE\n",
    "    - test_rmse: Test seti RMSE\n",
    "    - train_mae: Eğitim seti MAE\n",
    "    - val_mae: Doğrulama seti MAE\n",
    "    - test_mae: Test seti MAE\n",
    "    - train_mse: Eğitim seti MSE\n",
    "    - val_mse: Doğrulama seti MSE\n",
    "    - test_mse: Test seti MSE\n",
    "    \"\"\"\n",
    "\n",
    "    # Eğitim setinde RMSE, MAE ve MSE hesapla\n",
    "    train_rmse = sqrt(mean_squared_error(y_true_train, y_pred_train))\n",
    "    train_mae = mean_absolute_error(y_true_train, y_pred_train)\n",
    "    train_mse = mean_squared_error(y_true_train, y_pred_train)\n",
    "\n",
    "    # Doğrulama setinde RMSE, MAE ve MSE hesapla\n",
    "    val_rmse = sqrt(mean_squared_error(y_true_val, y_pred_val))\n",
    "    val_mae = mean_absolute_error(y_true_val, y_pred_val)\n",
    "    val_mse = mean_squared_error(y_true_val, y_pred_val)\n",
    "\n",
    "    # Test setinde RMSE, MAE ve MSE hesapla\n",
    "    test_rmse = sqrt(mean_squared_error(y_true_test, y_pred_test))\n",
    "    test_mae = mean_absolute_error(y_true_test, y_pred_test)\n",
    "    test_mse = mean_squared_error(y_true_test, y_pred_test)\n",
    "\n",
    "    print(f\"Train RMSE: {train_rmse}\")\n",
    "    print(f\"Train MAE: {train_mae}\")\n",
    "    print(f\"Train MSE: {train_mse}\")\n",
    "    print(f\"Validation RMSE: {val_rmse}\")\n",
    "    print(f\"Validation MAE: {val_mae}\")\n",
    "    print(f\"Validation MSE: {val_mse}\")\n",
    "    print(f\"Test RMSE: {test_rmse}\")\n",
    "    print(f\"Test MAE: {test_mae}\")\n",
    "    print(f\"Test MSE: {test_mse}\")\n",
    "    \n",
    "    return train_rmse, val_rmse, test_rmse, train_mae, val_mae, test_mae, train_mse, val_mse, test_mse\n"
   ]
  },
  {
   "cell_type": "code",
   "execution_count": 49,
   "id": "ba5c7646",
   "metadata": {},
   "outputs": [
    {
     "name": "stdout",
     "output_type": "stream",
     "text": [
      "Train RMSE: 1882.548104269706\n",
      "Train MAE: 1348.2638145854007\n",
      "Train MSE: 3543987.364889464\n",
      "Validation RMSE: 2537.4317888750884\n",
      "Validation MAE: 1773.9044720896081\n",
      "Validation MSE: 6438560.08319383\n",
      "Test RMSE: 2371.07542224671\n",
      "Test MAE: 1721.5016392229456\n",
      "Test MSE: 5621998.657982414\n"
     ]
    },
    {
     "data": {
      "text/plain": [
       "(1882.548104269706,\n",
       " 2537.4317888750884,\n",
       " 2371.07542224671,\n",
       " 1348.2638145854007,\n",
       " 1773.9044720896081,\n",
       " 1721.5016392229456,\n",
       " 3543987.364889464,\n",
       " 6438560.08319383,\n",
       " 5621998.657982414)"
      ]
     },
     "execution_count": 49,
     "metadata": {},
     "output_type": "execute_result"
    }
   ],
   "source": [
    "calculate_rmse_mae_mse_for_custom_splits(y_train, train_pred,y_validation, val_pred, y_test, test_pred)"
   ]
  },
  {
   "cell_type": "markdown",
   "id": "407e631a",
   "metadata": {},
   "source": [
    "### 3.6. Model Kayıt"
   ]
  },
  {
   "cell_type": "code",
   "execution_count": 154,
   "id": "06a1402d",
   "metadata": {},
   "outputs": [
    {
     "data": {
      "text/plain": [
       "['voting_clf2.pkl']"
      ]
     },
     "execution_count": 154,
     "metadata": {},
     "output_type": "execute_result"
    }
   ],
   "source": [
    "joblib.dump(voting_reg,\"voting_clf2.pkl\")"
   ]
  },
  {
   "cell_type": "markdown",
   "id": "5d256c90",
   "metadata": {},
   "source": [
    "### 3.7. Model Çağırma"
   ]
  },
  {
   "cell_type": "code",
   "execution_count": 42,
   "id": "0b21f418",
   "metadata": {},
   "outputs": [
    {
     "data": {
      "text/plain": [
       "array([15624.64692925])"
      ]
     },
     "execution_count": 42,
     "metadata": {},
     "output_type": "execute_result"
    }
   ],
   "source": [
    "random_user = X.sample(1, random_state=45)\n",
    "new_model = joblib.load(\"voting_clf2.pkl\")\n",
    "new_model.predict(random_user)\n"
   ]
  },
  {
   "cell_type": "code",
   "execution_count": 43,
   "id": "eb99be46",
   "metadata": {},
   "outputs": [
    {
     "data": {
      "text/plain": [
       "2636     23022\n",
       "6157     27750\n",
       "2008     29046\n",
       "12064    17500\n",
       "11632    29750\n",
       "         ...  \n",
       "841      28991\n",
       "125      18790\n",
       "2177     35420\n",
       "11854    39490\n",
       "12387    16400\n",
       "Name: satis_fiyati, Length: 1312, dtype: int64"
      ]
     },
     "execution_count": 43,
     "metadata": {},
     "output_type": "execute_result"
    }
   ],
   "source": [
    "y_test"
   ]
  },
  {
   "cell_type": "code",
   "execution_count": 50,
   "id": "ae7a437a",
   "metadata": {},
   "outputs": [
    {
     "data": {
      "text/plain": [
       "array([24842.37102984, 27594.52463346, 29243.6566622 , ...,\n",
       "       35550.9670912 , 35274.33689638, 21571.28032826])"
      ]
     },
     "execution_count": 50,
     "metadata": {},
     "output_type": "execute_result"
    }
   ],
   "source": [
    "test_pred"
   ]
  },
  {
   "cell_type": "code",
   "execution_count": 158,
   "id": "0d9c30ce",
   "metadata": {},
   "outputs": [
    {
     "name": "stdout",
     "output_type": "stream",
     "text": [
      "      satis_fiyati        tahmin\n",
      "0            23022  24842.371030\n",
      "1            27750  27594.524633\n",
      "2            29046  29243.656662\n",
      "3            17500  20976.482854\n",
      "4            29750  27925.789613\n",
      "...            ...           ...\n",
      "1307         28991  29343.671808\n",
      "1308         18790  20876.739404\n",
      "1309         35420  35550.967091\n",
      "1310         39490  35274.336896\n",
      "1311         16400  21571.280328\n",
      "\n",
      "[1312 rows x 2 columns]\n"
     ]
    }
   ],
   "source": [
    "test_pred_series = pd.Series(test_pred, name=\"tahmin\")\n",
    "\n",
    "# y_test ve test_pred verilerini bir DataFrame'de birleştirin\n",
    "karsilastirma = pd.concat([y_test.reset_index(drop=True), test_pred_series.reset_index(drop=True)], axis=1)\n",
    "\n",
    "# DataFrame'i gösterin\n",
    "print(karsilastirma)"
   ]
  },
  {
   "cell_type": "code",
   "execution_count": 51,
   "id": "25882bbc",
   "metadata": {},
   "outputs": [
    {
     "name": "stdout",
     "output_type": "stream",
     "text": [
      "       satis_fiyati        tahmin\n",
      "2636          23022  24842.371030\n",
      "6157          27750  27594.524633\n",
      "2008          29046  29243.656662\n",
      "12064         17500  20976.482854\n",
      "11632         29750  27925.789613\n",
      "...             ...           ...\n",
      "841           28991  29343.671808\n",
      "125           18790  20876.739404\n",
      "2177          35420  35550.967091\n",
      "11854         39490  35274.336896\n",
      "12387         16400  21571.280328\n",
      "\n",
      "[1312 rows x 2 columns]\n"
     ]
    }
   ],
   "source": [
    "test_pred_series = pd.Series(test_pred, index=y_test.index[:len(test_pred)], name=\"tahmin\")\n",
    "\n",
    "# y_test ve test_pred verilerini bir DataFrame'de birleştirin\n",
    "karsilastirma = pd.DataFrame({\"satis_fiyati\": y_test, \"tahmin\": test_pred_series})\n",
    "\n",
    "# DataFrame'i gösterin\n",
    "print(karsilastirma)"
   ]
  },
  {
   "cell_type": "code",
   "execution_count": 52,
   "id": "f98a5c5d",
   "metadata": {},
   "outputs": [
    {
     "data": {
      "text/html": [
       "<div>\n",
       "<style scoped>\n",
       "    .dataframe tbody tr th:only-of-type {\n",
       "        vertical-align: middle;\n",
       "    }\n",
       "\n",
       "    .dataframe tbody tr th {\n",
       "        vertical-align: top;\n",
       "    }\n",
       "\n",
       "    .dataframe thead th {\n",
       "        text-align: right;\n",
       "    }\n",
       "</style>\n",
       "<table border=\"1\" class=\"dataframe\">\n",
       "  <thead>\n",
       "    <tr style=\"text-align: right;\">\n",
       "      <th></th>\n",
       "      <th>satis_fiyati</th>\n",
       "      <th>tahmin</th>\n",
       "    </tr>\n",
       "  </thead>\n",
       "  <tbody>\n",
       "    <tr>\n",
       "      <th>2636</th>\n",
       "      <td>23022</td>\n",
       "      <td>24842.371030</td>\n",
       "    </tr>\n",
       "    <tr>\n",
       "      <th>6157</th>\n",
       "      <td>27750</td>\n",
       "      <td>27594.524633</td>\n",
       "    </tr>\n",
       "    <tr>\n",
       "      <th>2008</th>\n",
       "      <td>29046</td>\n",
       "      <td>29243.656662</td>\n",
       "    </tr>\n",
       "    <tr>\n",
       "      <th>12064</th>\n",
       "      <td>17500</td>\n",
       "      <td>20976.482854</td>\n",
       "    </tr>\n",
       "    <tr>\n",
       "      <th>11632</th>\n",
       "      <td>29750</td>\n",
       "      <td>27925.789613</td>\n",
       "    </tr>\n",
       "    <tr>\n",
       "      <th>...</th>\n",
       "      <td>...</td>\n",
       "      <td>...</td>\n",
       "    </tr>\n",
       "    <tr>\n",
       "      <th>841</th>\n",
       "      <td>28991</td>\n",
       "      <td>29343.671808</td>\n",
       "    </tr>\n",
       "    <tr>\n",
       "      <th>125</th>\n",
       "      <td>18790</td>\n",
       "      <td>20876.739404</td>\n",
       "    </tr>\n",
       "    <tr>\n",
       "      <th>2177</th>\n",
       "      <td>35420</td>\n",
       "      <td>35550.967091</td>\n",
       "    </tr>\n",
       "    <tr>\n",
       "      <th>11854</th>\n",
       "      <td>39490</td>\n",
       "      <td>35274.336896</td>\n",
       "    </tr>\n",
       "    <tr>\n",
       "      <th>12387</th>\n",
       "      <td>16400</td>\n",
       "      <td>21571.280328</td>\n",
       "    </tr>\n",
       "  </tbody>\n",
       "</table>\n",
       "<p>1312 rows × 2 columns</p>\n",
       "</div>"
      ],
      "text/plain": [
       "       satis_fiyati        tahmin\n",
       "2636          23022  24842.371030\n",
       "6157          27750  27594.524633\n",
       "2008          29046  29243.656662\n",
       "12064         17500  20976.482854\n",
       "11632         29750  27925.789613\n",
       "...             ...           ...\n",
       "841           28991  29343.671808\n",
       "125           18790  20876.739404\n",
       "2177          35420  35550.967091\n",
       "11854         39490  35274.336896\n",
       "12387         16400  21571.280328\n",
       "\n",
       "[1312 rows x 2 columns]"
      ]
     },
     "execution_count": 52,
     "metadata": {},
     "output_type": "execute_result"
    }
   ],
   "source": [
    "karsilastirma"
   ]
  },
  {
   "cell_type": "code",
   "execution_count": 57,
   "id": "116eaffe",
   "metadata": {},
   "outputs": [
    {
     "name": "stdout",
     "output_type": "stream",
     "text": [
      "      satis_fiyati        tahmin         fark\n",
      "0            23022  24842.371030  1820.371030\n",
      "1            27750  27594.524633  -155.475367\n",
      "2            29046  29243.656662   197.656662\n",
      "3            17500  20976.482854  3476.482854\n",
      "4            29750  27925.789613 -1824.210387\n",
      "...            ...           ...          ...\n",
      "1307         28991  29343.671808   352.671808\n",
      "1308         18790  20876.739404  2086.739404\n",
      "1309         35420  35550.967091   130.967091\n",
      "1310         39490  35274.336896 -4215.663104\n",
      "1311         16400  21571.280328  5171.280328\n",
      "\n",
      "[1312 rows x 3 columns]\n"
     ]
    }
   ],
   "source": [
    "karsilastirma.reset_index(drop=True, inplace=True)\n",
    "\n",
    "print(karsilastirma)"
   ]
  },
  {
   "cell_type": "code",
   "execution_count": null,
   "id": "dd0fffdd",
   "metadata": {},
   "outputs": [],
   "source": [
    "plt.scatter(y_test,test_pred)\n"
   ]
  }
 ],
 "metadata": {
  "kernelspec": {
   "display_name": "Python 3 (ipykernel)",
   "language": "python",
   "name": "python3"
  },
  "language_info": {
   "codemirror_mode": {
    "name": "ipython",
    "version": 3
   },
   "file_extension": ".py",
   "mimetype": "text/x-python",
   "name": "python",
   "nbconvert_exporter": "python",
   "pygments_lexer": "ipython3",
   "version": "3.9.13"
  }
 },
 "nbformat": 4,
 "nbformat_minor": 5
}
